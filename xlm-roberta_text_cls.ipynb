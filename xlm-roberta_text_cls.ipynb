{
 "cells": [
  {
   "cell_type": "markdown",
   "id": "38a045f7-6dd5-4855-a445-f1334b701dbb",
   "metadata": {},
   "source": [
    "# 1.Import"
   ]
  },
  {
   "cell_type": "code",
   "execution_count": 1,
   "id": "02880f17-9cfd-4eee-8e0b-fcdfa2bf357f",
   "metadata": {},
   "outputs": [],
   "source": [
    "import pandas as pd\n",
    "import numpy as np\n",
    "from sklearn.model_selection import train_test_split\n",
    "from sklearn.preprocessing import LabelEncoder\n",
    "import tensorflow as tf\n",
    "from transformers import AutoModel, AutoTokenizer, TFAutoModel\n",
    "import torch\n",
    "from tensorflow.keras import layers, models\n",
    "from tqdm import tqdm\n",
    "from sklearn.metrics import confusion_matrix, ConfusionMatrixDisplay\n",
    "import matplotlib.pyplot as plt\n",
    "import jieba"
   ]
  },
  {
   "cell_type": "code",
   "execution_count": 2,
   "id": "07e97d56-fdc3-4094-b6a7-5abf078b031a",
   "metadata": {},
   "outputs": [],
   "source": [
    "gpus = tf.config.list_physical_devices('GPU')\n",
    "if gpus:\n",
    "    try:\n",
    "        tf.config.experimental.set_memory_growth(gpus[0], True)\n",
    "    except:\n",
    "        pass"
   ]
  },
  {
   "cell_type": "markdown",
   "id": "e0a60cab-41e3-4b49-9bc6-52248cb6681a",
   "metadata": {},
   "source": [
    "# 2.Data"
   ]
  },
  {
   "cell_type": "code",
   "execution_count": 3,
   "id": "ccdca941-f09a-4fa4-87ce-3083550f61a5",
   "metadata": {},
   "outputs": [],
   "source": [
    "# 加载数据集    Загрузка набора данных\n",
    "file_path = r\"C:\\Users\\lcf14\\Desktop\\homework\\Machine_Learning_appli\\ecommerceDataset.csv\\ecommerceDataset.csv\"\n",
    "data = pd.read_csv(file_path)\n",
    "\n",
    "# 随机抽样 100 条数据    Случайная выборка 100 строк данных\n",
    "#data = data.sample(n=100, random_state=42)"
   ]
  },
  {
   "cell_type": "code",
   "execution_count": 4,
   "id": "e0a8eebe-2a26-4531-964e-07d99c05a9bf",
   "metadata": {},
   "outputs": [
    {
     "name": "stdout",
     "output_type": "stream",
     "text": [
      "   Household  \\\n",
      "0  Household   \n",
      "1  Household   \n",
      "2  Household   \n",
      "3  Household   \n",
      "4  Household   \n",
      "\n",
      "  Paper Plane Design Framed Wall Hanging Motivational Office Decor Art Prints (8.7 X 8.7 inch) - Set of 4 Painting made up in synthetic frame with uv textured print which gives multi effects and attracts towards it. This is an special series of paintings which makes your wall very beautiful and gives a royal touch. This painting is ready to hang, you would be proud to possess this unique painting that is a niche apart. We use only the most modern and efficient printing technology on our prints, with only the and inks and precision epson, roland and hp printers. This innovative hd printing technique results in durable and spectacular looking prints of the highest that last a lifetime. We print solely with top-notch 100% inks, to achieve brilliant and true colours. Due to their high level of uv resistance, our prints retain their beautiful colours for many years. Add colour and style to your living space with this digitally printed painting. Some are for pleasure and some for eternal bliss.so bring home this elegant print that is lushed with rich colors that makes it nothing but sheer elegance to be to your friends and family.it would be treasured forever by whoever your lucky recipient is. Liven up your place with these intriguing paintings that are high definition hd graphic digital prints for home, office or any room.  \n",
      "0  SAF 'Floral' Framed Painting (Wood, 30 inch x ...                                                                                                                                                                                                                                                                                                                                                                                                                                                                                                                                                                                                                                                                                                                                                                                                                                                                                                                                                                                                                                                                                                                                                                                                                                                                                                                                          \n",
      "1  SAF 'UV Textured Modern Art Print Framed' Pain...                                                                                                                                                                                                                                                                                                                                                                                                                                                                                                                                                                                                                                                                                                                                                                                                                                                                                                                                                                                                                                                                                                                                                                                                                                                                                                                                          \n",
      "2  SAF Flower Print Framed Painting (Synthetic, 1...                                                                                                                                                                                                                                                                                                                                                                                                                                                                                                                                                                                                                                                                                                                                                                                                                                                                                                                                                                                                                                                                                                                                                                                                                                                                                                                                          \n",
      "3  Incredible Gifts India Wooden Happy Birthday U...                                                                                                                                                                                                                                                                                                                                                                                                                                                                                                                                                                                                                                                                                                                                                                                                                                                                                                                                                                                                                                                                                                                                                                                                                                                                                                                                          \n",
      "4  Pitaara Box Romantic Venice Canvas Painting 6m...                                                                                                                                                                                                                                                                                                                                                                                                                                                                                                                                                                                                                                                                                                                                                                                                                                                                                                                                                                                                                                                                                                                                                                                                                                                                                                                                          \n"
     ]
    }
   ],
   "source": [
    "# 查看数据格式    Просмотр формата данных\n",
    "print(data.head())"
   ]
  },
  {
   "cell_type": "code",
   "execution_count": 5,
   "id": "a6eb6264-87fd-43d5-b589-44c1c20538e1",
   "metadata": {},
   "outputs": [],
   "source": [
    "# 提取标签和文本    Извлечение меток и текстов\n",
    "labels = data.iloc[:, 0]  # 提取数据集的第一列作为标签    Извлечение первого столбца набора данных в качестве меток\n",
    "texts = data.iloc[:, 1]  # 提取数据集的第二列作为文本    Извлечение второго столбца набора данных в качестве текстов\n",
    "\n",
    "# 确保文本是字符串组成的列表    Убедитесь, что тексты представлены в виде списка строк\n",
    "texts = [str(text) for text in texts if isinstance(text, (str, int, float)) and str(text).strip()]\n",
    "# 将标签编码为数字    Кодирование меток в числовой формат\n",
    "label_encoder = LabelEncoder()  # 初始化标签编码器    Инициализация кодировщика меток\n",
    "encoded_labels = label_encoder.fit_transform(labels)  # 将标签转换为数字编码    Преобразование меток в числовой формат"
   ]
  },
  {
   "cell_type": "code",
   "execution_count": 6,
   "id": "b1255bdf-aef4-473c-b9e1-7a4fc7f6ecb0",
   "metadata": {},
   "outputs": [
    {
     "name": "stdout",
     "output_type": "stream",
     "text": [
      "{'Books': 0, 'Clothing & Accessories': 1, 'Electronics': 2, 'Household': 3}\n"
     ]
    }
   ],
   "source": [
    "# 打印标签与编码的映射\n",
    "print(dict(zip(label_encoder.classes_, label_encoder.transform(label_encoder.classes_))))\n",
    "#print(texts[:5])"
   ]
  },
  {
   "cell_type": "markdown",
   "id": "d97b999c-71c9-4443-bcef-26d485c2a059",
   "metadata": {},
   "source": [
    "# 3.Backbone"
   ]
  },
  {
   "cell_type": "code",
   "execution_count": 7,
   "id": "1b3f10d6-0e63-461e-a2e3-8a73d1b0d4d1",
   "metadata": {},
   "outputs": [],
   "source": [
    "# 加载预训练模型\n",
    "#backbone = TFAutoModel.from_pretrained(\"xlm-roberta-large\")\n",
    "#tokenizer = AutoTokenizer.from_pretrained(\"xlm-roberta-large\")"
   ]
  },
  {
   "cell_type": "code",
   "execution_count": 8,
   "id": "715a09ea-efb6-4e6b-bcbc-f9f6261a48f6",
   "metadata": {},
   "outputs": [],
   "source": [
    "# 保存模型到本地\n",
    "#backbone.save_pretrained(\"./xlm-roberta-large_model\")\n",
    "#tokenizer.save_pretrained(\"./xlm-roberta-large_tokenizer\")"
   ]
  },
  {
   "cell_type": "code",
   "execution_count": 9,
   "id": "72311e46-9bf7-4c16-8dd0-8bea7ac4cdb9",
   "metadata": {},
   "outputs": [
    {
     "name": "stdout",
     "output_type": "stream",
     "text": [
      "WARNING:tensorflow:From C:\\Users\\lcf14\\AppData\\Local\\Programs\\Python\\Python311\\Lib\\site-packages\\tf_keras\\src\\losses.py:2976: The name tf.losses.sparse_softmax_cross_entropy is deprecated. Please use tf.compat.v1.losses.sparse_softmax_cross_entropy instead.\n",
      "\n",
      "WARNING:tensorflow:From C:\\Users\\lcf14\\AppData\\Local\\Programs\\Python\\Python311\\Lib\\site-packages\\tf_keras\\src\\backend.py:873: The name tf.get_default_graph is deprecated. Please use tf.compat.v1.get_default_graph instead.\n",
      "\n"
     ]
    },
    {
     "name": "stderr",
     "output_type": "stream",
     "text": [
      "All PyTorch model weights were used when initializing TFXLMRobertaModel.\n",
      "\n",
      "All the weights of TFXLMRobertaModel were initialized from the PyTorch model.\n",
      "If your task is similar to the task the model of the checkpoint was trained on, you can already use TFXLMRobertaModel for predictions without further training.\n"
     ]
    }
   ],
   "source": [
    "# 从本地加载模型    Загрузка модели локально\n",
    "backbone = TFAutoModel.from_pretrained(\"./xlm-roberta-large_model\")\n",
    "tokenizer = AutoTokenizer.from_pretrained(\"./xlm-roberta-large_tokenizer\")"
   ]
  },
  {
   "cell_type": "markdown",
   "id": "455fce6d-f17d-45c4-bdd6-96b9e9154f7a",
   "metadata": {},
   "source": [
    "# 4.Feature extraction"
   ]
  },
  {
   "cell_type": "code",
   "execution_count": 10,
   "id": "d2b0f87d-a44c-4839-b24d-b7894fcff9a6",
   "metadata": {},
   "outputs": [],
   "source": [
    "# 最大序列长度    Максимальная длина последовательности\n",
    "max_length = 128\n",
    "\n",
    "# 分词和填充    Токенизация и дополнение\n",
    "def tokenize_texts(texts, tokenizer, max_length):\n",
    "    return tokenizer(\n",
    "        list(texts),  # 将文本列表传递给分词器    Передача списка текстов токенизатору\n",
    "        padding=True,  # 启用填充，使所有序列长度相同    Включение дополнения, чтобы все последовательности имели одинаковую длину\n",
    "        truncation=True,  # 启用截断，超过最大长度的序列将被截断    Включение усечения, последовательности, превышающие максимальную длину, будут усечены\n",
    "        max_length=max_length,  # 设置最大序列长度    Установка максимальной длины последовательности\n",
    "        return_tensors=\"tf\"  # 返回 TensorFlow 张量格式的数据    Возвращение данных в формате тензоров TensorFlow\n",
    "    )"
   ]
  },
  {
   "cell_type": "code",
   "execution_count": 11,
   "id": "290043c6-f506-44b8-b778-166e21f390da",
   "metadata": {},
   "outputs": [],
   "source": [
    "# 提取特征    Извлечение признаков\n",
    "def extract_features(texts, backbone, tokenizer, max_length, batch_size):\n",
    "    \"\"\"\n",
    "    使用批量处理提取特征，避免内存溢出。\n",
    "    Извлечение признаков с использованием пакетной обработки для предотвращения переполнения памяти.\n",
    "    \n",
    "    Args:\n",
    "        texts (list of str): 输入文本列表。    Входной список текстов.\n",
    "        backbone: 预训练模型。    Предобученная модель.\n",
    "        tokenizer: 分词器。    Токенизатор.\n",
    "        max_length (int): 最大序列长度。    Максимальная длина последовательности.\n",
    "        batch_size (int): 每批处理的文本数量。    Количество текстов в каждом пакете.\n",
    "    \n",
    "    Returns:\n",
    "        np.ndarray: 提取的特征矩阵。    Извлеченная матрица признаков.\n",
    "    \"\"\"\n",
    "    all_features = []\n",
    "    num_batches = len(texts) // batch_size + (1 if len(texts) % batch_size != 0 else 0)  # 计算批次数量    Вычисление количества пакетов\n",
    "    \n",
    "    # 批量处理    Пакетная обработка\n",
    "    for i in tqdm(range(num_batches)):\n",
    "        batch_texts = texts[i * batch_size: (i + 1) * batch_size]  # 获取当前批次的文本    Получение текстов текущего пакета\n",
    "        \n",
    "        # 分词    Токенизация\n",
    "        tokenized = tokenizer(\n",
    "            batch_texts,\n",
    "            padding=\"max_length\",\n",
    "            truncation=True,\n",
    "            max_length=max_length,\n",
    "            return_tensors=\"tf\",\n",
    "        )\n",
    "        \n",
    "        # 转移到 GPU    Перемещение на GPU\n",
    "        input_ids = tokenized[\"input_ids\"]  # 获取输入 ID    Получение входных ID\n",
    "        attention_mask = tokenized[\"attention_mask\"]  # 获取注意力掩码    Получение маски внимания\n",
    "        \n",
    "        # 前向传播提取特征    Извлечение признаков с помощью прямого распространения\n",
    "        outputs = backbone(input_ids, attention_mask=attention_mask)\n",
    "        \n",
    "        # 取最后隐藏层的均值作为特征    Использование среднего значения последнего скрытого слоя в качестве признаков\n",
    "        batch_features = tf.reduce_mean(outputs.last_hidden_state, axis=1).numpy()\n",
    "        all_features.append(batch_features)\n",
    "    \n",
    "    # 拼接所有批次的特征    Объединение признаков всех пакетов\n",
    "    return np.vstack(all_features)"
   ]
  },
  {
   "cell_type": "code",
   "execution_count": 12,
   "id": "60f82210-8d93-4f30-a8bd-7e037e0c9a4e",
   "metadata": {},
   "outputs": [
    {
     "name": "stderr",
     "output_type": "stream",
     "text": [
      "100%|████████████████████████████████████████████████████████████████████████████| 1576/1576 [6:39:17<00:00, 15.20s/it]\n"
     ]
    }
   ],
   "source": [
    "# 使用批量处理提取特征    Извлечение признаков с использованием пакетной обработки\n",
    "batch_size = 32  # 根据内存情况调整\n",
    "features = extract_features(texts, backbone, tokenizer, max_length, batch_size=batch_size)"
   ]
  },
  {
   "cell_type": "code",
   "execution_count": 13,
   "id": "135e2518-d31e-4d2e-841e-0af6f09c8bce",
   "metadata": {},
   "outputs": [
    {
     "name": "stdout",
     "output_type": "stream",
     "text": [
      "(50424, 1024)\n"
     ]
    }
   ],
   "source": [
    "print(features.shape)"
   ]
  },
  {
   "cell_type": "markdown",
   "id": "aaf4556d-364f-4146-a0c4-a2de33fd9ba0",
   "metadata": {},
   "source": [
    "# 5.Prepare train/test data"
   ]
  },
  {
   "cell_type": "code",
   "execution_count": 14,
   "id": "73d41723-7a07-47e5-969c-37fbaaa7df5c",
   "metadata": {},
   "outputs": [],
   "source": [
    "# 划分数据集    Разделение набора данных\n",
    "X_train, X_test, y_train, y_test = train_test_split(features, encoded_labels, test_size=0.2, random_state=42)\n",
    "\n",
    "# 转换为 TensorFlow 数据集    Преобразование в набор данных TensorFlow\n",
    "train_dataset = tf.data.Dataset.from_tensor_slices((X_train, y_train)).batch(32)\n",
    "test_dataset = tf.data.Dataset.from_tensor_slices((X_test, y_test)).batch(32)"
   ]
  },
  {
   "cell_type": "markdown",
   "id": "e078c4ac-3239-4c17-a968-3f4edaa152d3",
   "metadata": {},
   "source": [
    "# 6.Build the model"
   ]
  },
  {
   "cell_type": "code",
   "execution_count": 15,
   "id": "10589b77-a143-4c28-bbc9-6cb89c695894",
   "metadata": {},
   "outputs": [],
   "source": [
    "# 构建分类模型    Построение модели классификатора\n",
    "model = models.Sequential([\n",
    "    layers.Input(shape=(features.shape[1],)),  # 输入特征向量    Входной вектор признаков\n",
    "    layers.Dense(128, activation=\"relu\"),     # 隐藏层    Скрытый слой\n",
    "    layers.Dense(len(label_encoder.classes_), activation=\"softmax\")  # 输出层    Выходной слой\n",
    "])"
   ]
  },
  {
   "cell_type": "code",
   "execution_count": 16,
   "id": "f5a84ca3-4726-405d-a3be-43bb8f0e4324",
   "metadata": {},
   "outputs": [],
   "source": [
    "# 编译模型    Компиляция модели\n",
    "model.compile(\n",
    "    optimizer=\"adam\",\n",
    "    loss=\"sparse_categorical_crossentropy\",\n",
    "    metrics=[\"accuracy\"]\n",
    ")"
   ]
  },
  {
   "cell_type": "code",
   "execution_count": 17,
   "id": "e329fc96-dae5-4d6c-8f87-1efc96a257c1",
   "metadata": {},
   "outputs": [
    {
     "data": {
      "text/html": [
       "<pre style=\"white-space:pre;overflow-x:auto;line-height:normal;font-family:Menlo,'DejaVu Sans Mono',consolas,'Courier New',monospace\"><span style=\"font-weight: bold\">Model: \"sequential\"</span>\n",
       "</pre>\n"
      ],
      "text/plain": [
       "\u001b[1mModel: \"sequential\"\u001b[0m\n"
      ]
     },
     "metadata": {},
     "output_type": "display_data"
    },
    {
     "data": {
      "text/html": [
       "<pre style=\"white-space:pre;overflow-x:auto;line-height:normal;font-family:Menlo,'DejaVu Sans Mono',consolas,'Courier New',monospace\">┏━━━━━━━━━━━━━━━━━━━━━━━━━━━━━━━━━━━━━━┳━━━━━━━━━━━━━━━━━━━━━━━━━━━━━┳━━━━━━━━━━━━━━━━━┓\n",
       "┃<span style=\"font-weight: bold\"> Layer (type)                         </span>┃<span style=\"font-weight: bold\"> Output Shape                </span>┃<span style=\"font-weight: bold\">         Param # </span>┃\n",
       "┡━━━━━━━━━━━━━━━━━━━━━━━━━━━━━━━━━━━━━━╇━━━━━━━━━━━━━━━━━━━━━━━━━━━━━╇━━━━━━━━━━━━━━━━━┩\n",
       "│ dense (<span style=\"color: #0087ff; text-decoration-color: #0087ff\">Dense</span>)                        │ (<span style=\"color: #00d7ff; text-decoration-color: #00d7ff\">None</span>, <span style=\"color: #00af00; text-decoration-color: #00af00\">128</span>)                 │         <span style=\"color: #00af00; text-decoration-color: #00af00\">131,200</span> │\n",
       "├──────────────────────────────────────┼─────────────────────────────┼─────────────────┤\n",
       "│ dense_1 (<span style=\"color: #0087ff; text-decoration-color: #0087ff\">Dense</span>)                      │ (<span style=\"color: #00d7ff; text-decoration-color: #00d7ff\">None</span>, <span style=\"color: #00af00; text-decoration-color: #00af00\">4</span>)                   │             <span style=\"color: #00af00; text-decoration-color: #00af00\">516</span> │\n",
       "└──────────────────────────────────────┴─────────────────────────────┴─────────────────┘\n",
       "</pre>\n"
      ],
      "text/plain": [
       "┏━━━━━━━━━━━━━━━━━━━━━━━━━━━━━━━━━━━━━━┳━━━━━━━━━━━━━━━━━━━━━━━━━━━━━┳━━━━━━━━━━━━━━━━━┓\n",
       "┃\u001b[1m \u001b[0m\u001b[1mLayer (type)                        \u001b[0m\u001b[1m \u001b[0m┃\u001b[1m \u001b[0m\u001b[1mOutput Shape               \u001b[0m\u001b[1m \u001b[0m┃\u001b[1m \u001b[0m\u001b[1m        Param #\u001b[0m\u001b[1m \u001b[0m┃\n",
       "┡━━━━━━━━━━━━━━━━━━━━━━━━━━━━━━━━━━━━━━╇━━━━━━━━━━━━━━━━━━━━━━━━━━━━━╇━━━━━━━━━━━━━━━━━┩\n",
       "│ dense (\u001b[38;5;33mDense\u001b[0m)                        │ (\u001b[38;5;45mNone\u001b[0m, \u001b[38;5;34m128\u001b[0m)                 │         \u001b[38;5;34m131,200\u001b[0m │\n",
       "├──────────────────────────────────────┼─────────────────────────────┼─────────────────┤\n",
       "│ dense_1 (\u001b[38;5;33mDense\u001b[0m)                      │ (\u001b[38;5;45mNone\u001b[0m, \u001b[38;5;34m4\u001b[0m)                   │             \u001b[38;5;34m516\u001b[0m │\n",
       "└──────────────────────────────────────┴─────────────────────────────┴─────────────────┘\n"
      ]
     },
     "metadata": {},
     "output_type": "display_data"
    },
    {
     "data": {
      "text/html": [
       "<pre style=\"white-space:pre;overflow-x:auto;line-height:normal;font-family:Menlo,'DejaVu Sans Mono',consolas,'Courier New',monospace\"><span style=\"font-weight: bold\"> Total params: </span><span style=\"color: #00af00; text-decoration-color: #00af00\">131,716</span> (514.52 KB)\n",
       "</pre>\n"
      ],
      "text/plain": [
       "\u001b[1m Total params: \u001b[0m\u001b[38;5;34m131,716\u001b[0m (514.52 KB)\n"
      ]
     },
     "metadata": {},
     "output_type": "display_data"
    },
    {
     "data": {
      "text/html": [
       "<pre style=\"white-space:pre;overflow-x:auto;line-height:normal;font-family:Menlo,'DejaVu Sans Mono',consolas,'Courier New',monospace\"><span style=\"font-weight: bold\"> Trainable params: </span><span style=\"color: #00af00; text-decoration-color: #00af00\">131,716</span> (514.52 KB)\n",
       "</pre>\n"
      ],
      "text/plain": [
       "\u001b[1m Trainable params: \u001b[0m\u001b[38;5;34m131,716\u001b[0m (514.52 KB)\n"
      ]
     },
     "metadata": {},
     "output_type": "display_data"
    },
    {
     "data": {
      "text/html": [
       "<pre style=\"white-space:pre;overflow-x:auto;line-height:normal;font-family:Menlo,'DejaVu Sans Mono',consolas,'Courier New',monospace\"><span style=\"font-weight: bold\"> Non-trainable params: </span><span style=\"color: #00af00; text-decoration-color: #00af00\">0</span> (0.00 B)\n",
       "</pre>\n"
      ],
      "text/plain": [
       "\u001b[1m Non-trainable params: \u001b[0m\u001b[38;5;34m0\u001b[0m (0.00 B)\n"
      ]
     },
     "metadata": {},
     "output_type": "display_data"
    }
   ],
   "source": [
    "# 打印模型结构\n",
    "model.summary()"
   ]
  },
  {
   "cell_type": "markdown",
   "id": "b1fd256c-3a6d-4012-887f-200418c4c665",
   "metadata": {},
   "source": [
    "# 7.Train the model"
   ]
  },
  {
   "cell_type": "code",
   "execution_count": 18,
   "id": "be5a4a67-ae39-40e0-aac7-d34aadf1b8ba",
   "metadata": {},
   "outputs": [
    {
     "name": "stdout",
     "output_type": "stream",
     "text": [
      "Epoch 1/10\n",
      "\u001b[1m1261/1261\u001b[0m \u001b[32m━━━━━━━━━━━━━━━━━━━━\u001b[0m\u001b[37m\u001b[0m \u001b[1m6s\u001b[0m 4ms/step - accuracy: 0.8806 - loss: 0.4004 - val_accuracy: 0.9417 - val_loss: 0.2099\n",
      "Epoch 2/10\n",
      "\u001b[1m1261/1261\u001b[0m \u001b[32m━━━━━━━━━━━━━━━━━━━━\u001b[0m\u001b[37m\u001b[0m \u001b[1m5s\u001b[0m 4ms/step - accuracy: 0.9428 - loss: 0.1991 - val_accuracy: 0.9449 - val_loss: 0.1942\n",
      "Epoch 3/10\n",
      "\u001b[1m1261/1261\u001b[0m \u001b[32m━━━━━━━━━━━━━━━━━━━━\u001b[0m\u001b[37m\u001b[0m \u001b[1m5s\u001b[0m 4ms/step - accuracy: 0.9479 - loss: 0.1811 - val_accuracy: 0.9468 - val_loss: 0.1855\n",
      "Epoch 4/10\n",
      "\u001b[1m1261/1261\u001b[0m \u001b[32m━━━━━━━━━━━━━━━━━━━━\u001b[0m\u001b[37m\u001b[0m \u001b[1m5s\u001b[0m 4ms/step - accuracy: 0.9508 - loss: 0.1694 - val_accuracy: 0.9494 - val_loss: 0.1765\n",
      "Epoch 5/10\n",
      "\u001b[1m1261/1261\u001b[0m \u001b[32m━━━━━━━━━━━━━━━━━━━━\u001b[0m\u001b[37m\u001b[0m \u001b[1m5s\u001b[0m 4ms/step - accuracy: 0.9533 - loss: 0.1600 - val_accuracy: 0.9510 - val_loss: 0.1702\n",
      "Epoch 6/10\n",
      "\u001b[1m1261/1261\u001b[0m \u001b[32m━━━━━━━━━━━━━━━━━━━━\u001b[0m\u001b[37m\u001b[0m \u001b[1m4s\u001b[0m 3ms/step - accuracy: 0.9559 - loss: 0.1521 - val_accuracy: 0.9526 - val_loss: 0.1657\n",
      "Epoch 7/10\n",
      "\u001b[1m1261/1261\u001b[0m \u001b[32m━━━━━━━━━━━━━━━━━━━━\u001b[0m\u001b[37m\u001b[0m \u001b[1m5s\u001b[0m 4ms/step - accuracy: 0.9586 - loss: 0.1446 - val_accuracy: 0.9553 - val_loss: 0.1574\n",
      "Epoch 8/10\n",
      "\u001b[1m1261/1261\u001b[0m \u001b[32m━━━━━━━━━━━━━━━━━━━━\u001b[0m\u001b[37m\u001b[0m \u001b[1m4s\u001b[0m 3ms/step - accuracy: 0.9595 - loss: 0.1376 - val_accuracy: 0.9563 - val_loss: 0.1541\n",
      "Epoch 9/10\n",
      "\u001b[1m1261/1261\u001b[0m \u001b[32m━━━━━━━━━━━━━━━━━━━━\u001b[0m\u001b[37m\u001b[0m \u001b[1m4s\u001b[0m 3ms/step - accuracy: 0.9616 - loss: 0.1311 - val_accuracy: 0.9568 - val_loss: 0.1507\n",
      "Epoch 10/10\n",
      "\u001b[1m1261/1261\u001b[0m \u001b[32m━━━━━━━━━━━━━━━━━━━━\u001b[0m\u001b[37m\u001b[0m \u001b[1m4s\u001b[0m 3ms/step - accuracy: 0.9633 - loss: 0.1245 - val_accuracy: 0.9586 - val_loss: 0.1463\n"
     ]
    }
   ],
   "source": [
    "# 训练模型    Обучение модели\n",
    "history = model.fit(train_dataset, validation_data=test_dataset, epochs=10)"
   ]
  },
  {
   "cell_type": "markdown",
   "id": "db8922aa-f16c-41b4-bfdd-b860869fefae",
   "metadata": {},
   "source": [
    "# 8.Evaluation"
   ]
  },
  {
   "cell_type": "code",
   "execution_count": 19,
   "id": "5917bc51-4402-4566-891a-4503e0ba548c",
   "metadata": {},
   "outputs": [
    {
     "name": "stdout",
     "output_type": "stream",
     "text": [
      "\u001b[1m316/316\u001b[0m \u001b[32m━━━━━━━━━━━━━━━━━━━━\u001b[0m\u001b[37m\u001b[0m \u001b[1m0s\u001b[0m 2ms/step - accuracy: 0.9603 - loss: 0.1451\n",
      "Accuracy of test: 95.86%\n"
     ]
    }
   ],
   "source": [
    "# 在测试集上评估    Оценка на тестовом наборе данных\n",
    "loss, accuracy = model.evaluate(test_dataset)\n",
    "print(f\"Accuracy of test: {accuracy * 100:.2f}%\")  "
   ]
  },
  {
   "cell_type": "code",
   "execution_count": 20,
   "id": "f9e2cea7-cd77-49ad-a27c-f950cb9e6e84",
   "metadata": {},
   "outputs": [
    {
     "name": "stdout",
     "output_type": "stream",
     "text": [
      "\u001b[1m316/316\u001b[0m \u001b[32m━━━━━━━━━━━━━━━━━━━━\u001b[0m\u001b[37m\u001b[0m \u001b[1m1s\u001b[0m 2ms/step\n"
     ]
    },
    {
     "data": {
      "image/png": "[encoded data removed]",
      "text/plain": [
       "<Figure size 640x480 with 2 Axes>"
      ]
     },
     "metadata": {},
     "output_type": "display_data"
    }
   ],
   "source": [
    "# 绘制混淆矩阵    Построение матрицы ошибок\n",
    "y_pred = model.predict(X_test)  # 预测测试集的标签    Предсказание меток тестового набора данных\n",
    "y_pred_classes = np.argmax(y_pred, axis=1)  # 获取预测结果的类别    Получение классов предсказанных результатов\n",
    "cm = confusion_matrix(y_test, y_pred_classes)  # 计算混淆矩阵    Вычисление матрицы ошибок\n",
    "\n",
    "disp = ConfusionMatrixDisplay(confusion_matrix=cm, display_labels=label_encoder.classes_)  # 创建混淆矩阵显示对象    Создание объекта для отображения матрицы ошибок\n",
    "disp.plot(cmap=plt.cm.Blues)  # 绘制混淆矩阵，并设置颜色映射    Построение матрицы ошибок с установкой цветовой схемы\n",
    "plt.show()"
   ]
  },
  {
   "cell_type": "code",
   "execution_count": 21,
   "id": "41284c7c-61ed-460f-9fc8-6cf61e4e0093",
   "metadata": {},
   "outputs": [],
   "source": [
    "# 定义文本分类函数    Определение функции классификации текста\n",
    "def classify_text(text: str) -> tuple[str, dict[str, float]]:\n",
    "    # Tokenize 输入文本    Токенизация входного текста\n",
    "    tokenized = tokenize_texts([text], tokenizer, max_length)  # 对输入文本进行分词    Токенизация входного текста\n",
    "    features = backbone(tokenized[\"input_ids\"], attention_mask=tokenized[\"attention_mask\"])  # 使用预训练模型提取特征    Извлечение признаков с использованием предобученной модели\n",
    "    feature_vector = tf.reduce_mean(features.last_hidden_state, axis=1).numpy()  # 取最后隐藏层的均值作为特征向量    Использование среднего значения последнего скрытого слоя в качестве вектора признаков\n",
    "    probabilities = model.predict(feature_vector)  # 预测类别概率    Предсказание вероятностей классов\n",
    "    \n",
    "    # 获取预测的类别    Получение предсказанного класса\n",
    "    predicted_class = np.argmax(probabilities, axis=1)[0]  # 获取概率最高的类别索引    Получение индекса класса с наибольшей вероятностью\n",
    "    predicted_label = label_encoder.inverse_transform([predicted_class])[0]  # 将索引转换为类别标签    Преобразование индекса в метку класса\n",
    "\n",
    "    # 概率转为字典格式 {类别名称: 概率}    Преобразование вероятностей в формат словаря {название класса: вероятность}\n",
    "    label_probabilities = dict(zip(label_encoder.classes_, probabilities[0]))  # 将类别和对应的概率组成字典    Создание словаря с классами и их вероятностями\n",
    "\n",
    "    return predicted_label, label_probabilities"
   ]
  },
  {
   "cell_type": "code",
   "execution_count": 30,
   "id": "141b0a7b-bb90-4bd7-af90-58f8772b2f89",
   "metadata": {},
   "outputs": [],
   "source": [
    "test_text = [\n",
    "    \"华为MateBook GT 14 酷睿 Ultra笔记本电脑 115W超能释放 轻薄 商务学生办公全能本 官方旗舰\",  # 华为笔记本电脑    Ноутбук Huawei\n",
    "    \"小米手环9 手环8升级 运动健康防水睡眠心率智能手环运动手环NFC全面屏长续航\",  # 小米智能手环    Умный браслет Xiaomi\n",
    "    \"高等数学同济七版八版教材上下册同济高等数学第七版手写笔记辅导题集大一专升本考研同步辅导习题 配套张宇数学考研\",  # 高等数学教材    Учебник по высшей математике\n",
    "    \"IKAE宜家电脑桌家用台式桌子工作台卧室简约现代简易书桌办公桌学\",  # 宜家电脑桌    Компьютерный стол IKEA\n",
    "    \"安踏星芒丨革网拼接复古时尚老爹鞋女厚底增高休闲鞋百搭运动鞋\",  # 安踏运动鞋    Спортивная обувь Anta\n",
    "    \"Higher Mathematics Tongji seventh edition eighth edition textbook up and down book Tongji higher mathematics seventh edition handwritten notes tutorial question set freshman college graduate exam synchronous tutorial exercises supporting Zhang Yu mathematics exams\"  # 高等数学教材（英文）    Учебник по высшей математике (на английском)\n",
    "]"
   ]
  },
  {
   "cell_type": "code",
   "execution_count": 31,
   "id": "ae3841b5-5d1a-4129-9ce7-729a5ca5c3de",
   "metadata": {},
   "outputs": [
    {
     "name": "stdout",
     "output_type": "stream",
     "text": [
      "\u001b[1m1/1\u001b[0m \u001b[32m━━━━━━━━━━━━━━━━━━━━\u001b[0m\u001b[37m\u001b[0m \u001b[1m0s\u001b[0m 16ms/step\n",
      "Text: 华为MateBook GT 14 酷睿 Ultra笔记本电脑 115W超能释放 轻薄 商务学生办公全能本 官方旗舰\n",
      " Classification result: Electronics\n",
      " probabilities: {'Books': 0.00058695255, 'Clothing & Accessories': 2.5329618e-09, 'Electronics': 0.9975673, 'Household': 0.0018457327}\n",
      "\u001b[1m1/1\u001b[0m \u001b[32m━━━━━━━━━━━━━━━━━━━━\u001b[0m\u001b[37m\u001b[0m \u001b[1m0s\u001b[0m 16ms/step\n",
      "Text: 小米手环9 手环8升级 运动健康防水睡眠心率智能手环运动手环NFC全面屏长续航\n",
      " Classification result: Electronics\n",
      " probabilities: {'Books': 0.00010999078, 'Clothing & Accessories': 0.066228755, 'Electronics': 0.9198632, 'Household': 0.013798034}\n",
      "\u001b[1m1/1\u001b[0m \u001b[32m━━━━━━━━━━━━━━━━━━━━\u001b[0m\u001b[37m\u001b[0m \u001b[1m0s\u001b[0m 31ms/step\n",
      "Text: 高等数学同济七版八版教材上下册同济高等数学第七版手写笔记辅导题集大一专升本考研同步辅导习题 配套张宇数学考研\n",
      " Classification result: Books\n",
      " probabilities: {'Books': 0.9511558, 'Clothing & Accessories': 4.6617524e-06, 'Electronics': 0.046222534, 'Household': 0.0026170928}\n",
      "\u001b[1m1/1\u001b[0m \u001b[32m━━━━━━━━━━━━━━━━━━━━\u001b[0m\u001b[37m\u001b[0m \u001b[1m0s\u001b[0m 16ms/step\n",
      "Text: IKAE宜家电脑桌家用台式桌子工作台卧室简约现代简易书桌办公桌学\n",
      " Classification result: Household\n",
      " probabilities: {'Books': 0.009271875, 'Clothing & Accessories': 6.8593785e-08, 'Electronics': 0.24366893, 'Household': 0.7470591}\n",
      "\u001b[1m1/1\u001b[0m \u001b[32m━━━━━━━━━━━━━━━━━━━━\u001b[0m\u001b[37m\u001b[0m \u001b[1m0s\u001b[0m 31ms/step\n",
      "Text: 安踏星芒丨革网拼接复古时尚老爹鞋女厚底增高休闲鞋百搭运动鞋\n",
      " Classification result: Clothing & Accessories\n",
      " probabilities: {'Books': 0.014180295, 'Clothing & Accessories': 0.72162855, 'Electronics': 0.0008163369, 'Household': 0.2633748}\n",
      "\u001b[1m1/1\u001b[0m \u001b[32m━━━━━━━━━━━━━━━━━━━━\u001b[0m\u001b[37m\u001b[0m \u001b[1m0s\u001b[0m 34ms/step\n",
      "Text: Higher Mathematics Tongji seventh edition eighth edition textbook up and down book Tongji higher mathematics seventh edition handwritten notes tutorial question set freshman college graduate exam synchronous tutorial exercises supporting Zhang Yu mathematics exams\n",
      " Classification result: Books\n",
      " probabilities: {'Books': 0.99899405, 'Clothing & Accessories': 7.873808e-08, 'Electronics': 0.000896425, 'Household': 0.00010951918}\n"
     ]
    }
   ],
   "source": [
    "# 测试分类函数    Тестирование функции классификации\n",
    "for text in test_text:\n",
    "    label, probabilities = classify_text(text)\n",
    "    print(f\"Text: {text}\\n Classification result: {label}\\n probabilities: {probabilities}\")"
   ]
  },
  {
   "cell_type": "markdown",
   "id": "19f7a3cb-d51b-451e-be12-093635313606",
   "metadata": {},
   "source": [
    "# Bonus"
   ]
  },
  {
   "cell_type": "code",
   "execution_count": 32,
   "id": "83842877-e1e2-49ce-8172-9f27b4dce016",
   "metadata": {},
   "outputs": [],
   "source": [
    "# 分词并计算单词影响    Токенизация и вычисление влияния слов\n",
    "def get_words_impact(text: str) -> list[tuple[str, dict[str, float]]]:\n",
    "    # 使用 jieba 分词    Использование jieba для токенизации\n",
    "    words = list(jieba.cut(text))  # 将文本分割成单词列表    Разделение текста на список слов\n",
    "    original_label, original_probs = classify_text(text)  # 分类原始文本，获取标签和概率    Классификация исходного текста для получения метки и вероятностей\n",
    "    impacts = []\n",
    "\n",
    "    for i, word in enumerate(words):\n",
    "        # 去掉当前词语    Удаление текущего слова\n",
    "        modified_text = \"\".join(words[:i] + words[i+1:])  # 生成去掉当前词语后的文本    Создание текста без текущего слова\n",
    "        _, modified_probs = classify_text(modified_text)  # 分类修改后的文本，获取概率    Классификация измененного текста для получения вероятностей\n",
    "\n",
    "        # 计算每个类别的影响并以字典形式存储    Вычисление влияния для каждого класса и сохранение в виде словаря\n",
    "        impact = {label: modified_probs[label] - original_probs[label] for label in original_probs.keys()}  # 计算影响    Вычисление влияния\n",
    "        impacts.append((word, impact))  # 添加到影响列表    Добавление в список влияний\n",
    "\n",
    "    return impacts"
   ]
  },
  {
   "cell_type": "code",
   "execution_count": 33,
   "id": "f24da24a-a7c5-4ea7-9d60-40158934d39f",
   "metadata": {},
   "outputs": [
    {
     "name": "stdout",
     "output_type": "stream",
     "text": [
      "\u001b[1m1/1\u001b[0m \u001b[32m━━━━━━━━━━━━━━━━━━━━\u001b[0m\u001b[37m\u001b[0m \u001b[1m0s\u001b[0m 31ms/step\n",
      "\u001b[1m1/1\u001b[0m \u001b[32m━━━━━━━━━━━━━━━━━━━━\u001b[0m\u001b[37m\u001b[0m \u001b[1m0s\u001b[0m 32ms/step\n",
      "\u001b[1m1/1\u001b[0m \u001b[32m━━━━━━━━━━━━━━━━━━━━\u001b[0m\u001b[37m\u001b[0m \u001b[1m0s\u001b[0m 16ms/step\n",
      "\u001b[1m1/1\u001b[0m \u001b[32m━━━━━━━━━━━━━━━━━━━━\u001b[0m\u001b[37m\u001b[0m \u001b[1m0s\u001b[0m 40ms/step\n",
      "\u001b[1m1/1\u001b[0m \u001b[32m━━━━━━━━━━━━━━━━━━━━\u001b[0m\u001b[37m\u001b[0m \u001b[1m0s\u001b[0m 16ms/step\n",
      "\u001b[1m1/1\u001b[0m \u001b[32m━━━━━━━━━━━━━━━━━━━━\u001b[0m\u001b[37m\u001b[0m \u001b[1m0s\u001b[0m 31ms/step\n",
      "\u001b[1m1/1\u001b[0m \u001b[32m━━━━━━━━━━━━━━━━━━━━\u001b[0m\u001b[37m\u001b[0m \u001b[1m0s\u001b[0m 32ms/step\n",
      "\u001b[1m1/1\u001b[0m \u001b[32m━━━━━━━━━━━━━━━━━━━━\u001b[0m\u001b[37m\u001b[0m \u001b[1m0s\u001b[0m 16ms/step\n",
      "\u001b[1m1/1\u001b[0m \u001b[32m━━━━━━━━━━━━━━━━━━━━\u001b[0m\u001b[37m\u001b[0m \u001b[1m0s\u001b[0m 16ms/step\n",
      "\u001b[1m1/1\u001b[0m \u001b[32m━━━━━━━━━━━━━━━━━━━━\u001b[0m\u001b[37m\u001b[0m \u001b[1m0s\u001b[0m 48ms/step\n",
      "\u001b[1m1/1\u001b[0m \u001b[32m━━━━━━━━━━━━━━━━━━━━\u001b[0m\u001b[37m\u001b[0m \u001b[1m0s\u001b[0m 31ms/step\n",
      "\u001b[1m1/1\u001b[0m \u001b[32m━━━━━━━━━━━━━━━━━━━━\u001b[0m\u001b[37m\u001b[0m \u001b[1m0s\u001b[0m 16ms/step\n",
      "\u001b[1m1/1\u001b[0m \u001b[32m━━━━━━━━━━━━━━━━━━━━\u001b[0m\u001b[37m\u001b[0m \u001b[1m0s\u001b[0m 12ms/step\n",
      "\u001b[1m1/1\u001b[0m \u001b[32m━━━━━━━━━━━━━━━━━━━━\u001b[0m\u001b[37m\u001b[0m \u001b[1m0s\u001b[0m 18ms/step\n",
      "\u001b[1m1/1\u001b[0m \u001b[32m━━━━━━━━━━━━━━━━━━━━\u001b[0m\u001b[37m\u001b[0m \u001b[1m0s\u001b[0m 31ms/step\n",
      "\u001b[1m1/1\u001b[0m \u001b[32m━━━━━━━━━━━━━━━━━━━━\u001b[0m\u001b[37m\u001b[0m \u001b[1m0s\u001b[0m 16ms/step\n",
      "\u001b[1m1/1\u001b[0m \u001b[32m━━━━━━━━━━━━━━━━━━━━\u001b[0m\u001b[37m\u001b[0m \u001b[1m0s\u001b[0m 16ms/step\n",
      "\u001b[1m1/1\u001b[0m \u001b[32m━━━━━━━━━━━━━━━━━━━━\u001b[0m\u001b[37m\u001b[0m \u001b[1m0s\u001b[0m 16ms/step\n",
      "\u001b[1m1/1\u001b[0m \u001b[32m━━━━━━━━━━━━━━━━━━━━\u001b[0m\u001b[37m\u001b[0m \u001b[1m0s\u001b[0m 16ms/step\n",
      "\u001b[1m1/1\u001b[0m \u001b[32m━━━━━━━━━━━━━━━━━━━━\u001b[0m\u001b[37m\u001b[0m \u001b[1m0s\u001b[0m 16ms/step\n",
      "\u001b[1m1/1\u001b[0m \u001b[32m━━━━━━━━━━━━━━━━━━━━\u001b[0m\u001b[37m\u001b[0m \u001b[1m0s\u001b[0m 22ms/step\n",
      "\u001b[1m1/1\u001b[0m \u001b[32m━━━━━━━━━━━━━━━━━━━━\u001b[0m\u001b[37m\u001b[0m \u001b[1m0s\u001b[0m 16ms/step\n",
      "\u001b[1m1/1\u001b[0m \u001b[32m━━━━━━━━━━━━━━━━━━━━\u001b[0m\u001b[37m\u001b[0m \u001b[1m0s\u001b[0m 16ms/step\n",
      "\u001b[1m1/1\u001b[0m \u001b[32m━━━━━━━━━━━━━━━━━━━━\u001b[0m\u001b[37m\u001b[0m \u001b[1m0s\u001b[0m 12ms/step\n",
      "\u001b[1m1/1\u001b[0m \u001b[32m━━━━━━━━━━━━━━━━━━━━\u001b[0m\u001b[37m\u001b[0m \u001b[1m0s\u001b[0m 47ms/step\n",
      "\u001b[1m1/1\u001b[0m \u001b[32m━━━━━━━━━━━━━━━━━━━━\u001b[0m\u001b[37m\u001b[0m \u001b[1m0s\u001b[0m 24ms/step\n",
      "\u001b[1m1/1\u001b[0m \u001b[32m━━━━━━━━━━━━━━━━━━━━\u001b[0m\u001b[37m\u001b[0m \u001b[1m0s\u001b[0m 36ms/step\n",
      "word: 华为\n",
      "impact: {'Books': 0.00029736437, 'Clothing & Accessories': 7.928873e-10, 'Electronics': -0.001282692, 'Household': 0.0009853219}\n",
      "word: MateBook\n",
      "impact: {'Books': -0.00028417187, 'Clothing & Accessories': -2.2118218e-10, 'Electronics': -0.0005212426, 'Household': 0.00080547587}\n",
      "word:  \n",
      "impact: {'Books': -1.5553087e-05, 'Clothing & Accessories': 3.7644998e-10, 'Electronics': -0.0005245805, 'Household': 0.00054019096}\n",
      "word: GT\n",
      "impact: {'Books': 6.5137225e-05, 'Clothing & Accessories': 2.4732314e-09, 'Electronics': -0.000819087, 'Household': 0.00075398677}\n",
      "word:  \n",
      "impact: {'Books': -6.3213054e-05, 'Clothing & Accessories': 1.3260619e-09, 'Electronics': -0.00035506487, 'Household': 0.0004182927}\n",
      "word: 14\n",
      "impact: {'Books': -0.0001700152, 'Clothing & Accessories': -3.4865533e-10, 'Electronics': 0.00031930208, 'Household': -0.00014928542}\n",
      "word:  \n",
      "impact: {'Books': -9.901766e-05, 'Clothing & Accessories': -9.244999e-10, 'Electronics': 0.0008074045, 'Household': -0.0007083935}\n",
      "word: 酷睿\n",
      "impact: {'Books': -0.00013477239, 'Clothing & Accessories': -9.166179e-11, 'Electronics': 2.18153e-05, 'Household': 0.000113046844}\n",
      "word:  \n",
      "impact: {'Books': -0.00030080066, 'Clothing & Accessories': 2.0276358e-08, 'Electronics': -0.0006302595, 'Household': 0.0009310605}\n",
      "word: Ultra\n",
      "impact: {'Books': -0.00017473535, 'Clothing & Accessories': 7.876091e-09, 'Electronics': -0.00011944771, 'Household': 0.00029424613}\n",
      "word: 笔记本电脑\n",
      "impact: {'Books': -7.034716e-05, 'Clothing & Accessories': 1.7303532e-09, 'Electronics': 0.00017440319, 'Household': -0.000103972736}\n",
      "word:  \n",
      "impact: {'Books': 2.6006368e-05, 'Clothing & Accessories': -2.6660874e-10, 'Electronics': -7.390976e-05, 'Household': 4.7966954e-05}\n",
      "word: 115W\n",
      "impact: {'Books': 0.0008511279, 'Clothing & Accessories': 1.0758679e-08, 'Electronics': -0.000364542, 'Household': -0.0004864775}\n",
      "word: 超能\n",
      "impact: {'Books': 0.0015726304, 'Clothing & Accessories': 1.6451045e-08, 'Electronics': -0.0025447607, 'Household': 0.0009721444}\n",
      "word: 释放\n",
      "impact: {'Books': 3.859744e-05, 'Clothing & Accessories': 2.8798235e-09, 'Electronics': 0.00073838234, 'Household': -0.0007769489}\n",
      "word:  \n",
      "impact: {'Books': 0.0005631845, 'Clothing & Accessories': 4.4751483e-09, 'Electronics': -0.00073075294, 'Household': 0.00016755599}\n",
      "word: 轻薄\n",
      "impact: {'Books': 0.00075497443, 'Clothing & Accessories': 5.7101346e-10, 'Electronics': -0.001439631, 'Household': 0.0006846081}\n",
      "word:  \n",
      "impact: {'Books': -7.5959484e-05, 'Clothing & Accessories': -8.675669e-10, 'Electronics': 0.00046998262, 'Household': -0.00039401383}\n",
      "word: 商务\n",
      "impact: {'Books': -6.952201e-05, 'Clothing & Accessories': -4.763314e-10, 'Electronics': 0.00013357401, 'Household': -6.413984e-05}\n",
      "word: 学生\n",
      "impact: {'Books': -3.3118937e-05, 'Clothing & Accessories': -9.0640995e-10, 'Electronics': -0.00031238794, 'Household': 0.00034546654}\n",
      "word: 办公\n",
      "impact: {'Books': -0.0002386944, 'Clothing & Accessories': 1.8539303e-10, 'Electronics': 0.0009049773, 'Household': -0.00066634617}\n",
      "word: 全能\n",
      "impact: {'Books': 8.5871725e-05, 'Clothing & Accessories': 2.1527535e-10, 'Electronics': -0.0014159083, 'Household': 0.0013299704}\n",
      "word: 本\n",
      "impact: {'Books': -0.00013527629, 'Clothing & Accessories': 1.9575896e-10, 'Electronics': 0.00046986341, 'Household': -0.00033455656}\n",
      "word:  \n",
      "impact: {'Books': 0.00021448836, 'Clothing & Accessories': -1.7649482e-09, 'Electronics': 0.00022983551, 'Household': -0.0004442908}\n",
      "word: 官方\n",
      "impact: {'Books': 0.0002177715, 'Clothing & Accessories': -7.808343e-10, 'Electronics': 0.00010126829, 'Household': -0.00031904445}\n",
      "word: 旗舰\n",
      "impact: {'Books': 0.00057876087, 'Clothing & Accessories': -7.2255657e-10, 'Electronics': -0.0015611053, 'Household': 0.0009823776}\n",
      "\u001b[1m1/1\u001b[0m \u001b[32m━━━━━━━━━━━━━━━━━━━━\u001b[0m\u001b[37m\u001b[0m \u001b[1m0s\u001b[0m 42ms/step\n",
      "\u001b[1m1/1\u001b[0m \u001b[32m━━━━━━━━━━━━━━━━━━━━\u001b[0m\u001b[37m\u001b[0m \u001b[1m0s\u001b[0m 23ms/step\n",
      "\u001b[1m1/1\u001b[0m \u001b[32m━━━━━━━━━━━━━━━━━━━━\u001b[0m\u001b[37m\u001b[0m \u001b[1m0s\u001b[0m 23ms/step\n",
      "\u001b[1m1/1\u001b[0m \u001b[32m━━━━━━━━━━━━━━━━━━━━\u001b[0m\u001b[37m\u001b[0m \u001b[1m0s\u001b[0m 22ms/step\n",
      "\u001b[1m1/1\u001b[0m \u001b[32m━━━━━━━━━━━━━━━━━━━━\u001b[0m\u001b[37m\u001b[0m \u001b[1m0s\u001b[0m 24ms/step\n",
      "\u001b[1m1/1\u001b[0m \u001b[32m━━━━━━━━━━━━━━━━━━━━\u001b[0m\u001b[37m\u001b[0m \u001b[1m0s\u001b[0m 24ms/step\n",
      "\u001b[1m1/1\u001b[0m \u001b[32m━━━━━━━━━━━━━━━━━━━━\u001b[0m\u001b[37m\u001b[0m \u001b[1m0s\u001b[0m 24ms/step\n",
      "\u001b[1m1/1\u001b[0m \u001b[32m━━━━━━━━━━━━━━━━━━━━\u001b[0m\u001b[37m\u001b[0m \u001b[1m0s\u001b[0m 26ms/step\n",
      "\u001b[1m1/1\u001b[0m \u001b[32m━━━━━━━━━━━━━━━━━━━━\u001b[0m\u001b[37m\u001b[0m \u001b[1m0s\u001b[0m 22ms/step\n",
      "\u001b[1m1/1\u001b[0m \u001b[32m━━━━━━━━━━━━━━━━━━━━\u001b[0m\u001b[37m\u001b[0m \u001b[1m0s\u001b[0m 21ms/step\n",
      "\u001b[1m1/1\u001b[0m \u001b[32m━━━━━━━━━━━━━━━━━━━━\u001b[0m\u001b[37m\u001b[0m \u001b[1m0s\u001b[0m 31ms/step\n",
      "\u001b[1m1/1\u001b[0m \u001b[32m━━━━━━━━━━━━━━━━━━━━\u001b[0m\u001b[37m\u001b[0m \u001b[1m0s\u001b[0m 16ms/step\n",
      "\u001b[1m1/1\u001b[0m \u001b[32m━━━━━━━━━━━━━━━━━━━━\u001b[0m\u001b[37m\u001b[0m \u001b[1m0s\u001b[0m 33ms/step\n",
      "\u001b[1m1/1\u001b[0m \u001b[32m━━━━━━━━━━━━━━━━━━━━\u001b[0m\u001b[37m\u001b[0m \u001b[1m0s\u001b[0m 21ms/step\n",
      "\u001b[1m1/1\u001b[0m \u001b[32m━━━━━━━━━━━━━━━━━━━━\u001b[0m\u001b[37m\u001b[0m \u001b[1m0s\u001b[0m 16ms/step\n",
      "\u001b[1m1/1\u001b[0m \u001b[32m━━━━━━━━━━━━━━━━━━━━\u001b[0m\u001b[37m\u001b[0m \u001b[1m0s\u001b[0m 16ms/step\n",
      "\u001b[1m1/1\u001b[0m \u001b[32m━━━━━━━━━━━━━━━━━━━━\u001b[0m\u001b[37m\u001b[0m \u001b[1m0s\u001b[0m 16ms/step\n",
      "\u001b[1m1/1\u001b[0m \u001b[32m━━━━━━━━━━━━━━━━━━━━\u001b[0m\u001b[37m\u001b[0m \u001b[1m0s\u001b[0m 16ms/step\n",
      "\u001b[1m1/1\u001b[0m \u001b[32m━━━━━━━━━━━━━━━━━━━━\u001b[0m\u001b[37m\u001b[0m \u001b[1m0s\u001b[0m 28ms/step\n",
      "\u001b[1m1/1\u001b[0m \u001b[32m━━━━━━━━━━━━━━━━━━━━\u001b[0m\u001b[37m\u001b[0m \u001b[1m0s\u001b[0m 16ms/step\n",
      "\u001b[1m1/1\u001b[0m \u001b[32m━━━━━━━━━━━━━━━━━━━━\u001b[0m\u001b[37m\u001b[0m \u001b[1m0s\u001b[0m 31ms/step\n",
      "\u001b[1m1/1\u001b[0m \u001b[32m━━━━━━━━━━━━━━━━━━━━\u001b[0m\u001b[37m\u001b[0m \u001b[1m0s\u001b[0m 16ms/step\n",
      "word: 小米\n",
      "impact: {'Books': 8.272013e-05, 'Clothing & Accessories': 0.36294746, 'Electronics': -0.42887455, 'Household': 0.06584437}\n",
      "word: 手环\n",
      "impact: {'Books': -3.708269e-05, 'Clothing & Accessories': 0.06669264, 'Electronics': -0.069300056, 'Household': 0.0026445296}\n",
      "word: 9\n",
      "impact: {'Books': 1.2105738e-07, 'Clothing & Accessories': 0.142607, 'Electronics': -0.14645684, 'Household': 0.003849741}\n",
      "word:  \n",
      "impact: {'Books': -7.629591e-06, 'Clothing & Accessories': 0.07771646, 'Electronics': -0.08342934, 'Household': 0.005720461}\n",
      "word: 手环\n",
      "impact: {'Books': -3.1393836e-05, 'Clothing & Accessories': 0.037103802, 'Electronics': -0.037761986, 'Household': 0.0006896239}\n",
      "word: 8\n",
      "impact: {'Books': -4.2166896e-05, 'Clothing & Accessories': 0.054133162, 'Electronics': -0.052841485, 'Household': -0.0012495061}\n",
      "word: 升级\n",
      "impact: {'Books': -6.3869025e-05, 'Clothing & Accessories': 0.033704884, 'Electronics': -0.025096476, 'Household': -0.0085444115}\n",
      "word:  \n",
      "impact: {'Books': 6.555322e-05, 'Clothing & Accessories': -0.014733568, 'Electronics': 0.021363318, 'Household': -0.006695302}\n",
      "word: 运动\n",
      "impact: {'Books': -5.237758e-05, 'Clothing & Accessories': 0.022002012, 'Electronics': -0.01865524, 'Household': -0.0032943254}\n",
      "word: 健康\n",
      "impact: {'Books': -4.032413e-05, 'Clothing & Accessories': -0.045939498, 'Electronics': 0.04821074, 'Household': -0.002231026}\n",
      "word: 防水\n",
      "impact: {'Books': 2.3425411e-05, 'Clothing & Accessories': -0.032337308, 'Electronics': 0.025933385, 'Household': 0.0063804556}\n",
      "word: 睡眠\n",
      "impact: {'Books': 4.789552e-05, 'Clothing & Accessories': -0.0027030706, 'Electronics': 0.004740417, 'Household': -0.0020851558}\n",
      "word: 心率\n",
      "impact: {'Books': -3.925232e-05, 'Clothing & Accessories': -0.02625576, 'Electronics': 0.033453226, 'Household': -0.007158212}\n",
      "word: 智能\n",
      "impact: {'Books': 1.2907025e-05, 'Clothing & Accessories': 0.011890426, 'Electronics': -0.02022338, 'Household': 0.008320054}\n",
      "word: 手环\n",
      "impact: {'Books': -3.6472004e-05, 'Clothing & Accessories': -0.02564586, 'Electronics': 0.020779133, 'Household': 0.004903173}\n",
      "word: 运动\n",
      "impact: {'Books': -4.5792374e-05, 'Clothing & Accessories': -0.023407925, 'Electronics': 0.022960365, 'Household': 0.0004933309}\n",
      "word: 手环\n",
      "impact: {'Books': -1.1823278e-05, 'Clothing & Accessories': 0.068111114, 'Electronics': -0.07534218, 'Household': 0.007242929}\n",
      "word: NFC\n",
      "impact: {'Books': -4.2010135e-05, 'Clothing & Accessories': 0.05579269, 'Electronics': -0.056346238, 'Household': 0.0005956236}\n",
      "word: 全面\n",
      "impact: {'Books': 5.1241892e-05, 'Clothing & Accessories': 0.06532072, 'Electronics': -0.07316691, 'Household': 0.007794963}\n",
      "word: 屏长\n",
      "impact: {'Books': 0.00023368384, 'Clothing & Accessories': 0.10828108, 'Electronics': -0.11129516, 'Household': 0.0027803294}\n",
      "word: 续航\n",
      "impact: {'Books': 0.00015025765, 'Clothing & Accessories': 0.28749996, 'Electronics': -0.3127104, 'Household': 0.025060115}\n",
      "\u001b[1m1/1\u001b[0m \u001b[32m━━━━━━━━━━━━━━━━━━━━\u001b[0m\u001b[37m\u001b[0m \u001b[1m0s\u001b[0m 16ms/step\n",
      "\u001b[1m1/1\u001b[0m \u001b[32m━━━━━━━━━━━━━━━━━━━━\u001b[0m\u001b[37m\u001b[0m \u001b[1m0s\u001b[0m 31ms/step\n",
      "\u001b[1m1/1\u001b[0m \u001b[32m━━━━━━━━━━━━━━━━━━━━\u001b[0m\u001b[37m\u001b[0m \u001b[1m0s\u001b[0m 31ms/step\n",
      "\u001b[1m1/1\u001b[0m \u001b[32m━━━━━━━━━━━━━━━━━━━━\u001b[0m\u001b[37m\u001b[0m \u001b[1m0s\u001b[0m 31ms/step\n",
      "\u001b[1m1/1\u001b[0m \u001b[32m━━━━━━━━━━━━━━━━━━━━\u001b[0m\u001b[37m\u001b[0m \u001b[1m0s\u001b[0m 47ms/step\n",
      "\u001b[1m1/1\u001b[0m \u001b[32m━━━━━━━━━━━━━━━━━━━━\u001b[0m\u001b[37m\u001b[0m \u001b[1m0s\u001b[0m 16ms/step\n",
      "\u001b[1m1/1\u001b[0m \u001b[32m━━━━━━━━━━━━━━━━━━━━\u001b[0m\u001b[37m\u001b[0m \u001b[1m0s\u001b[0m 47ms/step\n",
      "\u001b[1m1/1\u001b[0m \u001b[32m━━━━━━━━━━━━━━━━━━━━\u001b[0m\u001b[37m\u001b[0m \u001b[1m0s\u001b[0m 31ms/step\n",
      "\u001b[1m1/1\u001b[0m \u001b[32m━━━━━━━━━━━━━━━━━━━━\u001b[0m\u001b[37m\u001b[0m \u001b[1m0s\u001b[0m 45ms/step\n",
      "\u001b[1m1/1\u001b[0m \u001b[32m━━━━━━━━━━━━━━━━━━━━\u001b[0m\u001b[37m\u001b[0m \u001b[1m0s\u001b[0m 31ms/step\n",
      "\u001b[1m1/1\u001b[0m \u001b[32m━━━━━━━━━━━━━━━━━━━━\u001b[0m\u001b[37m\u001b[0m \u001b[1m0s\u001b[0m 18ms/step\n",
      "\u001b[1m1/1\u001b[0m \u001b[32m━━━━━━━━━━━━━━━━━━━━\u001b[0m\u001b[37m\u001b[0m \u001b[1m0s\u001b[0m 10ms/step\n",
      "\u001b[1m1/1\u001b[0m \u001b[32m━━━━━━━━━━━━━━━━━━━━\u001b[0m\u001b[37m\u001b[0m \u001b[1m0s\u001b[0m 16ms/step\n",
      "\u001b[1m1/1\u001b[0m \u001b[32m━━━━━━━━━━━━━━━━━━━━\u001b[0m\u001b[37m\u001b[0m \u001b[1m0s\u001b[0m 16ms/step\n",
      "\u001b[1m1/1\u001b[0m \u001b[32m━━━━━━━━━━━━━━━━━━━━\u001b[0m\u001b[37m\u001b[0m \u001b[1m0s\u001b[0m 43ms/step\n",
      "\u001b[1m1/1\u001b[0m \u001b[32m━━━━━━━━━━━━━━━━━━━━\u001b[0m\u001b[37m\u001b[0m \u001b[1m0s\u001b[0m 16ms/step\n",
      "\u001b[1m1/1\u001b[0m \u001b[32m━━━━━━━━━━━━━━━━━━━━\u001b[0m\u001b[37m\u001b[0m \u001b[1m0s\u001b[0m 16ms/step\n",
      "\u001b[1m1/1\u001b[0m \u001b[32m━━━━━━━━━━━━━━━━━━━━\u001b[0m\u001b[37m\u001b[0m \u001b[1m0s\u001b[0m 31ms/step\n",
      "\u001b[1m1/1\u001b[0m \u001b[32m━━━━━━━━━━━━━━━━━━━━\u001b[0m\u001b[37m\u001b[0m \u001b[1m0s\u001b[0m 18ms/step\n",
      "\u001b[1m1/1\u001b[0m \u001b[32m━━━━━━━━━━━━━━━━━━━━\u001b[0m\u001b[37m\u001b[0m \u001b[1m0s\u001b[0m 16ms/step\n",
      "\u001b[1m1/1\u001b[0m \u001b[32m━━━━━━━━━━━━━━━━━━━━\u001b[0m\u001b[37m\u001b[0m \u001b[1m0s\u001b[0m 16ms/step\n",
      "\u001b[1m1/1\u001b[0m \u001b[32m━━━━━━━━━━━━━━━━━━━━\u001b[0m\u001b[37m\u001b[0m \u001b[1m0s\u001b[0m 31ms/step\n",
      "\u001b[1m1/1\u001b[0m \u001b[32m━━━━━━━━━━━━━━━━━━━━\u001b[0m\u001b[37m\u001b[0m \u001b[1m0s\u001b[0m 32ms/step\n",
      "\u001b[1m1/1\u001b[0m \u001b[32m━━━━━━━━━━━━━━━━━━━━\u001b[0m\u001b[37m\u001b[0m \u001b[1m0s\u001b[0m 36ms/step\n",
      "\u001b[1m1/1\u001b[0m \u001b[32m━━━━━━━━━━━━━━━━━━━━\u001b[0m\u001b[37m\u001b[0m \u001b[1m0s\u001b[0m 18ms/step\n",
      "word: 高等数学\n",
      "impact: {'Books': -0.016441762, 'Clothing & Accessories': 5.6195668e-06, 'Electronics': 0.01657642, 'Household': -0.00014030095}\n",
      "word: 同济\n",
      "impact: {'Books': -0.0066998005, 'Clothing & Accessories': -1.0707026e-08, 'Electronics': 0.0072964765, 'Household': -0.00059668324}\n",
      "word: 七版\n",
      "impact: {'Books': -0.011035681, 'Clothing & Accessories': 2.0372981e-06, 'Electronics': 0.011020359, 'Household': 1.3201265e-05}\n",
      "word: 八版\n",
      "impact: {'Books': -0.04790145, 'Clothing & Accessories': 3.3387241e-06, 'Electronics': 0.046493288, 'Household': 0.001404678}\n",
      "word: 教材\n",
      "impact: {'Books': 0.013724327, 'Clothing & Accessories': -1.3709912e-06, 'Electronics': -0.013071399, 'Household': -0.00065165455}\n",
      "word: 上下册\n",
      "impact: {'Books': -0.007284045, 'Clothing & Accessories': -4.837502e-07, 'Electronics': 0.0068757683, 'Household': 0.00040875096}\n",
      "word: 同济\n",
      "impact: {'Books': 0.015801966, 'Clothing & Accessories': -3.1860986e-06, 'Electronics': -0.0143301785, 'Household': -0.0014686752}\n",
      "word: 高等数学\n",
      "impact: {'Books': -0.006815374, 'Clothing & Accessories': 1.3264621e-06, 'Electronics': 0.006747376, 'Household': 6.6536944e-05}\n",
      "word: 第七版\n",
      "impact: {'Books': 0.013184607, 'Clothing & Accessories': -1.5071519e-06, 'Electronics': -0.012166634, 'Household': -0.0010165686}\n",
      "word: 手写\n",
      "impact: {'Books': -0.013245642, 'Clothing & Accessories': -1.8080709e-07, 'Electronics': 0.012681674, 'Household': 0.0005641163}\n",
      "word: 笔记\n",
      "impact: {'Books': -0.006073594, 'Clothing & Accessories': 4.6537116e-06, 'Electronics': 0.0059013627, 'Household': 0.00016747182}\n",
      "word: 辅导\n",
      "impact: {'Books': 0.012825131, 'Clothing & Accessories': 9.054961e-07, 'Electronics': -0.013194744, 'Household': 0.00036872365}\n",
      "word: 题\n",
      "impact: {'Books': -0.02662003, 'Clothing & Accessories': 3.6679758e-06, 'Electronics': 0.02476992, 'Household': 0.0018464192}\n",
      "word: 集大一\n",
      "impact: {'Books': 0.0016036034, 'Clothing & Accessories': 2.1729797e-06, 'Electronics': -0.0016226284, 'Household': 1.6742852e-05}\n",
      "word: 专升本\n",
      "impact: {'Books': -0.0040491223, 'Clothing & Accessories': 2.025628e-06, 'Electronics': 0.0042936206, 'Household': -0.00024656183}\n",
      "word: 考研\n",
      "impact: {'Books': -0.007748246, 'Clothing & Accessories': 1.4642178e-06, 'Electronics': 0.0063204356, 'Household': 0.0014262367}\n",
      "word: 同步\n",
      "impact: {'Books': 0.013911724, 'Clothing & Accessories': 3.6691008e-06, 'Electronics': -0.014919374, 'Household': 0.0010039436}\n",
      "word: 辅导\n",
      "impact: {'Books': 0.017413735, 'Clothing & Accessories': -1.4727339e-06, 'Electronics': -0.017164508, 'Household': -0.00024770084}\n",
      "word: 习题\n",
      "impact: {'Books': 0.00023818016, 'Clothing & Accessories': -1.5262119e-06, 'Electronics': -0.00022959337, 'Household': -7.12811e-06}\n",
      "word:  \n",
      "impact: {'Books': 0.010511816, 'Clothing & Accessories': -8.415727e-07, 'Electronics': -0.009961922, 'Household': -0.0005491425}\n",
      "word: 配套\n",
      "impact: {'Books': 0.0044940114, 'Clothing & Accessories': -1.2390901e-06, 'Electronics': -0.008558046, 'Household': 0.0040651434}\n",
      "word: 张宇\n",
      "impact: {'Books': 0.038611233, 'Clothing & Accessories': -3.6929687e-06, 'Electronics': -0.036781523, 'Household': -0.0018261386}\n",
      "word: 数学\n",
      "impact: {'Books': -0.010551751, 'Clothing & Accessories': 1.6744248e-06, 'Electronics': 0.011594988, 'Household': -0.0010449446}\n",
      "word: 考研\n",
      "impact: {'Books': 0.02429849, 'Clothing & Accessories': 7.0596343e-07, 'Electronics': -0.024682336, 'Household': 0.00038310536}\n",
      "\u001b[1m1/1\u001b[0m \u001b[32m━━━━━━━━━━━━━━━━━━━━\u001b[0m\u001b[37m\u001b[0m \u001b[1m0s\u001b[0m 16ms/step\n",
      "\u001b[1m1/1\u001b[0m \u001b[32m━━━━━━━━━━━━━━━━━━━━\u001b[0m\u001b[37m\u001b[0m \u001b[1m0s\u001b[0m 26ms/step\n",
      "\u001b[1m1/1\u001b[0m \u001b[32m━━━━━━━━━━━━━━━━━━━━\u001b[0m\u001b[37m\u001b[0m \u001b[1m0s\u001b[0m 31ms/step\n",
      "\u001b[1m1/1\u001b[0m \u001b[32m━━━━━━━━━━━━━━━━━━━━\u001b[0m\u001b[37m\u001b[0m \u001b[1m0s\u001b[0m 16ms/step\n",
      "\u001b[1m1/1\u001b[0m \u001b[32m━━━━━━━━━━━━━━━━━━━━\u001b[0m\u001b[37m\u001b[0m \u001b[1m0s\u001b[0m 24ms/step\n",
      "\u001b[1m1/1\u001b[0m \u001b[32m━━━━━━━━━━━━━━━━━━━━\u001b[0m\u001b[37m\u001b[0m \u001b[1m0s\u001b[0m 31ms/step\n",
      "\u001b[1m1/1\u001b[0m \u001b[32m━━━━━━━━━━━━━━━━━━━━\u001b[0m\u001b[37m\u001b[0m \u001b[1m0s\u001b[0m 16ms/step\n",
      "\u001b[1m1/1\u001b[0m \u001b[32m━━━━━━━━━━━━━━━━━━━━\u001b[0m\u001b[37m\u001b[0m \u001b[1m0s\u001b[0m 31ms/step\n",
      "\u001b[1m1/1\u001b[0m \u001b[32m━━━━━━━━━━━━━━━━━━━━\u001b[0m\u001b[37m\u001b[0m \u001b[1m0s\u001b[0m 27ms/step\n",
      "\u001b[1m1/1\u001b[0m \u001b[32m━━━━━━━━━━━━━━━━━━━━\u001b[0m\u001b[37m\u001b[0m \u001b[1m0s\u001b[0m 16ms/step\n",
      "\u001b[1m1/1\u001b[0m \u001b[32m━━━━━━━━━━━━━━━━━━━━\u001b[0m\u001b[37m\u001b[0m \u001b[1m0s\u001b[0m 17ms/step\n",
      "\u001b[1m1/1\u001b[0m \u001b[32m━━━━━━━━━━━━━━━━━━━━\u001b[0m\u001b[37m\u001b[0m \u001b[1m0s\u001b[0m 16ms/step\n",
      "\u001b[1m1/1\u001b[0m \u001b[32m━━━━━━━━━━━━━━━━━━━━\u001b[0m\u001b[37m\u001b[0m \u001b[1m0s\u001b[0m 31ms/step\n",
      "\u001b[1m1/1\u001b[0m \u001b[32m━━━━━━━━━━━━━━━━━━━━\u001b[0m\u001b[37m\u001b[0m \u001b[1m0s\u001b[0m 31ms/step\n",
      "\u001b[1m1/1\u001b[0m \u001b[32m━━━━━━━━━━━━━━━━━━━━\u001b[0m\u001b[37m\u001b[0m \u001b[1m0s\u001b[0m 18ms/step\n",
      "word: IKAE\n",
      "impact: {'Books': 0.00010435656, 'Clothing & Accessories': 1.0811707e-07, 'Electronics': 0.06576349, 'Household': -0.0658679}\n",
      "word: 宜家\n",
      "impact: {'Books': 3.796257e-05, 'Clothing & Accessories': 5.2138752e-08, 'Electronics': -0.10032478, 'Household': 0.10028684}\n",
      "word: 电脑桌\n",
      "impact: {'Books': -0.006303585, 'Clothing & Accessories': -5.1176187e-08, 'Electronics': -0.19574943, 'Household': 0.20205313}\n",
      "word: 家用\n",
      "impact: {'Books': -0.00318958, 'Clothing & Accessories': 1.5229963e-07, 'Electronics': -0.018892542, 'Household': 0.02208203}\n",
      "word: 台式\n",
      "impact: {'Books': -0.0003065383, 'Clothing & Accessories': 1.410516e-07, 'Electronics': -0.0849569, 'Household': 0.08526331}\n",
      "word: 桌子\n",
      "impact: {'Books': -0.0025842176, 'Clothing & Accessories': 1.15439256e-07, 'Electronics': -0.054743797, 'Household': 0.057327926}\n",
      "word: 工作台\n",
      "impact: {'Books': -0.004703493, 'Clothing & Accessories': 7.4050966e-08, 'Electronics': -0.13636257, 'Household': 0.14106607}\n",
      "word: 卧室\n",
      "impact: {'Books': 0.0040711304, 'Clothing & Accessories': 9.460627e-08, 'Electronics': 0.06645851, 'Household': -0.0705297}\n",
      "word: 简约\n",
      "impact: {'Books': -0.005074915, 'Clothing & Accessories': -1.5515226e-08, 'Electronics': -0.122829616, 'Household': 0.12790453}\n",
      "word: 现代\n",
      "impact: {'Books': -0.0050145895, 'Clothing & Accessories': 4.2997274e-07, 'Electronics': 0.19659661, 'Household': -0.19158244}\n",
      "word: 简易\n",
      "impact: {'Books': -0.0030884845, 'Clothing & Accessories': -9.825904e-09, 'Electronics': -0.12688851, 'Household': 0.12997699}\n",
      "word: 书桌\n",
      "impact: {'Books': -0.004008681, 'Clothing & Accessories': 2.1607741e-07, 'Electronics': -0.03746125, 'Household': 0.041469753}\n",
      "word: 办公桌\n",
      "impact: {'Books': -0.0071238056, 'Clothing & Accessories': -2.3127093e-08, 'Electronics': -0.16659859, 'Household': 0.17372245}\n",
      "word: 学\n",
      "impact: {'Books': -0.0019270424, 'Clothing & Accessories': 7.171863e-10, 'Electronics': 0.04875703, 'Household': -0.04682994}\n",
      "\u001b[1m1/1\u001b[0m \u001b[32m━━━━━━━━━━━━━━━━━━━━\u001b[0m\u001b[37m\u001b[0m \u001b[1m0s\u001b[0m 56ms/step\n",
      "\u001b[1m1/1\u001b[0m \u001b[32m━━━━━━━━━━━━━━━━━━━━\u001b[0m\u001b[37m\u001b[0m \u001b[1m0s\u001b[0m 42ms/step\n",
      "\u001b[1m1/1\u001b[0m \u001b[32m━━━━━━━━━━━━━━━━━━━━\u001b[0m\u001b[37m\u001b[0m \u001b[1m0s\u001b[0m 21ms/step\n",
      "\u001b[1m1/1\u001b[0m \u001b[32m━━━━━━━━━━━━━━━━━━━━\u001b[0m\u001b[37m\u001b[0m \u001b[1m0s\u001b[0m 22ms/step\n",
      "\u001b[1m1/1\u001b[0m \u001b[32m━━━━━━━━━━━━━━━━━━━━\u001b[0m\u001b[37m\u001b[0m \u001b[1m0s\u001b[0m 20ms/step\n",
      "\u001b[1m1/1\u001b[0m \u001b[32m━━━━━━━━━━━━━━━━━━━━\u001b[0m\u001b[37m\u001b[0m \u001b[1m0s\u001b[0m 39ms/step\n",
      "\u001b[1m1/1\u001b[0m \u001b[32m━━━━━━━━━━━━━━━━━━━━\u001b[0m\u001b[37m\u001b[0m \u001b[1m0s\u001b[0m 40ms/step\n",
      "\u001b[1m1/1\u001b[0m \u001b[32m━━━━━━━━━━━━━━━━━━━━\u001b[0m\u001b[37m\u001b[0m \u001b[1m0s\u001b[0m 20ms/step\n",
      "\u001b[1m1/1\u001b[0m \u001b[32m━━━━━━━━━━━━━━━━━━━━\u001b[0m\u001b[37m\u001b[0m \u001b[1m0s\u001b[0m 25ms/step\n",
      "\u001b[1m1/1\u001b[0m \u001b[32m━━━━━━━━━━━━━━━━━━━━\u001b[0m\u001b[37m\u001b[0m \u001b[1m0s\u001b[0m 20ms/step\n",
      "\u001b[1m1/1\u001b[0m \u001b[32m━━━━━━━━━━━━━━━━━━━━\u001b[0m\u001b[37m\u001b[0m \u001b[1m0s\u001b[0m 35ms/step\n",
      "\u001b[1m1/1\u001b[0m \u001b[32m━━━━━━━━━━━━━━━━━━━━\u001b[0m\u001b[37m\u001b[0m \u001b[1m0s\u001b[0m 20ms/step\n",
      "\u001b[1m1/1\u001b[0m \u001b[32m━━━━━━━━━━━━━━━━━━━━\u001b[0m\u001b[37m\u001b[0m \u001b[1m0s\u001b[0m 20ms/step\n",
      "\u001b[1m1/1\u001b[0m \u001b[32m━━━━━━━━━━━━━━━━━━━━\u001b[0m\u001b[37m\u001b[0m \u001b[1m0s\u001b[0m 20ms/step\n",
      "\u001b[1m1/1\u001b[0m \u001b[32m━━━━━━━━━━━━━━━━━━━━\u001b[0m\u001b[37m\u001b[0m \u001b[1m0s\u001b[0m 25ms/step\n",
      "word: 安踏\n",
      "impact: {'Books': -0.0028338432, 'Clothing & Accessories': -0.09481615, 'Electronics': 0.00038335548, 'Household': 0.097266644}\n",
      "word: 星芒\n",
      "impact: {'Books': 0.0025305916, 'Clothing & Accessories': -0.12776929, 'Electronics': -0.00035645955, 'Household': 0.12559521}\n",
      "word: 丨\n",
      "impact: {'Books': -0.008716652, 'Clothing & Accessories': -0.097242415, 'Electronics': -0.00016756431, 'Household': 0.106126696}\n",
      "word: 革网\n",
      "impact: {'Books': -0.00048585143, 'Clothing & Accessories': 0.11955786, 'Electronics': -0.00033130462, 'Household': -0.11874071}\n",
      "word: 拼接\n",
      "impact: {'Books': 0.030507386, 'Clothing & Accessories': -0.13385224, 'Electronics': -0.00020383258, 'Household': 0.103548646}\n",
      "word: 复古\n",
      "impact: {'Books': 0.026213974, 'Clothing & Accessories': 0.15224457, 'Electronics': -0.00042412456, 'Household': -0.17803442}\n",
      "word: 时尚\n",
      "impact: {'Books': -0.010418244, 'Clothing & Accessories': 0.15000278, 'Electronics': 0.001071715, 'Household': -0.14065625}\n",
      "word: 老爹\n",
      "impact: {'Books': 0.0027074553, 'Clothing & Accessories': 0.14916992, 'Electronics': 0.00042171805, 'Household': -0.15229908}\n",
      "word: 鞋\n",
      "impact: {'Books': -0.009310577, 'Clothing & Accessories': 0.135459, 'Electronics': -0.00036129507, 'Household': -0.12578708}\n",
      "word: 女厚底\n",
      "impact: {'Books': 0.012436913, 'Clothing & Accessories': 0.08111775, 'Electronics': -0.0005539118, 'Household': -0.093000725}\n",
      "word: 增高\n",
      "impact: {'Books': 0.015518308, 'Clothing & Accessories': 0.04146862, 'Electronics': -0.00018337317, 'Household': -0.05680348}\n",
      "word: 休闲鞋\n",
      "impact: {'Books': -0.0022612568, 'Clothing & Accessories': 0.009702921, 'Electronics': -0.00024999952, 'Household': -0.007191628}\n",
      "word: 百搭\n",
      "impact: {'Books': -0.00916492, 'Clothing & Accessories': 0.099570334, 'Electronics': -0.0004302232, 'Household': -0.08997515}\n",
      "word: 运动鞋\n",
      "impact: {'Books': -0.010554969, 'Clothing & Accessories': -0.015806139, 'Electronics': 0.00062045635, 'Household': 0.025740713}\n",
      "\u001b[1m1/1\u001b[0m \u001b[32m━━━━━━━━━━━━━━━━━━━━\u001b[0m\u001b[37m\u001b[0m \u001b[1m0s\u001b[0m 25ms/step\n",
      "\u001b[1m1/1\u001b[0m \u001b[32m━━━━━━━━━━━━━━━━━━━━\u001b[0m\u001b[37m\u001b[0m \u001b[1m0s\u001b[0m 25ms/step\n",
      "\u001b[1m1/1\u001b[0m \u001b[32m━━━━━━━━━━━━━━━━━━━━\u001b[0m\u001b[37m\u001b[0m \u001b[1m0s\u001b[0m 25ms/step\n",
      "\u001b[1m1/1\u001b[0m \u001b[32m━━━━━━━━━━━━━━━━━━━━\u001b[0m\u001b[37m\u001b[0m \u001b[1m0s\u001b[0m 28ms/step\n",
      "\u001b[1m1/1\u001b[0m \u001b[32m━━━━━━━━━━━━━━━━━━━━\u001b[0m\u001b[37m\u001b[0m \u001b[1m0s\u001b[0m 20ms/step\n",
      "\u001b[1m1/1\u001b[0m \u001b[32m━━━━━━━━━━━━━━━━━━━━\u001b[0m\u001b[37m\u001b[0m \u001b[1m0s\u001b[0m 20ms/step\n",
      "\u001b[1m1/1\u001b[0m \u001b[32m━━━━━━━━━━━━━━━━━━━━\u001b[0m\u001b[37m\u001b[0m \u001b[1m0s\u001b[0m 25ms/step\n",
      "\u001b[1m1/1\u001b[0m \u001b[32m━━━━━━━━━━━━━━━━━━━━\u001b[0m\u001b[37m\u001b[0m \u001b[1m0s\u001b[0m 20ms/step\n",
      "\u001b[1m1/1\u001b[0m \u001b[32m━━━━━━━━━━━━━━━━━━━━\u001b[0m\u001b[37m\u001b[0m \u001b[1m0s\u001b[0m 25ms/step\n",
      "\u001b[1m1/1\u001b[0m \u001b[32m━━━━━━━━━━━━━━━━━━━━\u001b[0m\u001b[37m\u001b[0m \u001b[1m0s\u001b[0m 55ms/step\n",
      "\u001b[1m1/1\u001b[0m \u001b[32m━━━━━━━━━━━━━━━━━━━━\u001b[0m\u001b[37m\u001b[0m \u001b[1m0s\u001b[0m 25ms/step\n",
      "\u001b[1m1/1\u001b[0m \u001b[32m━━━━━━━━━━━━━━━━━━━━\u001b[0m\u001b[37m\u001b[0m \u001b[1m0s\u001b[0m 22ms/step\n",
      "\u001b[1m1/1\u001b[0m \u001b[32m━━━━━━━━━━━━━━━━━━━━\u001b[0m\u001b[37m\u001b[0m \u001b[1m0s\u001b[0m 20ms/step\n",
      "\u001b[1m1/1\u001b[0m \u001b[32m━━━━━━━━━━━━━━━━━━━━\u001b[0m\u001b[37m\u001b[0m \u001b[1m0s\u001b[0m 19ms/step\n",
      "\u001b[1m1/1\u001b[0m \u001b[32m━━━━━━━━━━━━━━━━━━━━\u001b[0m\u001b[37m\u001b[0m \u001b[1m0s\u001b[0m 25ms/step\n",
      "\u001b[1m1/1\u001b[0m \u001b[32m━━━━━━━━━━━━━━━━━━━━\u001b[0m\u001b[37m\u001b[0m \u001b[1m0s\u001b[0m 25ms/step\n",
      "\u001b[1m1/1\u001b[0m \u001b[32m━━━━━━━━━━━━━━━━━━━━\u001b[0m\u001b[37m\u001b[0m \u001b[1m0s\u001b[0m 20ms/step\n",
      "\u001b[1m1/1\u001b[0m \u001b[32m━━━━━━━━━━━━━━━━━━━━\u001b[0m\u001b[37m\u001b[0m \u001b[1m0s\u001b[0m 25ms/step\n",
      "\u001b[1m1/1\u001b[0m \u001b[32m━━━━━━━━━━━━━━━━━━━━\u001b[0m\u001b[37m\u001b[0m \u001b[1m0s\u001b[0m 41ms/step\n",
      "\u001b[1m1/1\u001b[0m \u001b[32m━━━━━━━━━━━━━━━━━━━━\u001b[0m\u001b[37m\u001b[0m \u001b[1m0s\u001b[0m 35ms/step\n",
      "\u001b[1m1/1\u001b[0m \u001b[32m━━━━━━━━━━━━━━━━━━━━\u001b[0m\u001b[37m\u001b[0m \u001b[1m0s\u001b[0m 23ms/step\n",
      "\u001b[1m1/1\u001b[0m \u001b[32m━━━━━━━━━━━━━━━━━━━━\u001b[0m\u001b[37m\u001b[0m \u001b[1m0s\u001b[0m 25ms/step\n",
      "\u001b[1m1/1\u001b[0m \u001b[32m━━━━━━━━━━━━━━━━━━━━\u001b[0m\u001b[37m\u001b[0m \u001b[1m0s\u001b[0m 25ms/step\n",
      "\u001b[1m1/1\u001b[0m \u001b[32m━━━━━━━━━━━━━━━━━━━━\u001b[0m\u001b[37m\u001b[0m \u001b[1m0s\u001b[0m 24ms/step\n",
      "\u001b[1m1/1\u001b[0m \u001b[32m━━━━━━━━━━━━━━━━━━━━\u001b[0m\u001b[37m\u001b[0m \u001b[1m0s\u001b[0m 20ms/step\n",
      "\u001b[1m1/1\u001b[0m \u001b[32m━━━━━━━━━━━━━━━━━━━━\u001b[0m\u001b[37m\u001b[0m \u001b[1m0s\u001b[0m 45ms/step\n",
      "\u001b[1m1/1\u001b[0m \u001b[32m━━━━━━━━━━━━━━━━━━━━\u001b[0m\u001b[37m\u001b[0m \u001b[1m0s\u001b[0m 23ms/step\n",
      "\u001b[1m1/1\u001b[0m \u001b[32m━━━━━━━━━━━━━━━━━━━━\u001b[0m\u001b[37m\u001b[0m \u001b[1m0s\u001b[0m 23ms/step\n",
      "\u001b[1m1/1\u001b[0m \u001b[32m━━━━━━━━━━━━━━━━━━━━\u001b[0m\u001b[37m\u001b[0m \u001b[1m0s\u001b[0m 25ms/step\n",
      "\u001b[1m1/1\u001b[0m \u001b[32m━━━━━━━━━━━━━━━━━━━━\u001b[0m\u001b[37m\u001b[0m \u001b[1m0s\u001b[0m 25ms/step\n",
      "\u001b[1m1/1\u001b[0m \u001b[32m━━━━━━━━━━━━━━━━━━━━\u001b[0m\u001b[37m\u001b[0m \u001b[1m0s\u001b[0m 20ms/step\n",
      "\u001b[1m1/1\u001b[0m \u001b[32m━━━━━━━━━━━━━━━━━━━━\u001b[0m\u001b[37m\u001b[0m \u001b[1m0s\u001b[0m 20ms/step\n",
      "\u001b[1m1/1\u001b[0m \u001b[32m━━━━━━━━━━━━━━━━━━━━\u001b[0m\u001b[37m\u001b[0m \u001b[1m0s\u001b[0m 23ms/step\n",
      "\u001b[1m1/1\u001b[0m \u001b[32m━━━━━━━━━━━━━━━━━━━━\u001b[0m\u001b[37m\u001b[0m \u001b[1m0s\u001b[0m 20ms/step\n",
      "\u001b[1m1/1\u001b[0m \u001b[32m━━━━━━━━━━━━━━━━━━━━\u001b[0m\u001b[37m\u001b[0m \u001b[1m0s\u001b[0m 20ms/step\n",
      "\u001b[1m1/1\u001b[0m \u001b[32m━━━━━━━━━━━━━━━━━━━━\u001b[0m\u001b[37m\u001b[0m \u001b[1m0s\u001b[0m 20ms/step\n",
      "\u001b[1m1/1\u001b[0m \u001b[32m━━━━━━━━━━━━━━━━━━━━\u001b[0m\u001b[37m\u001b[0m \u001b[1m0s\u001b[0m 25ms/step\n",
      "\u001b[1m1/1\u001b[0m \u001b[32m━━━━━━━━━━━━━━━━━━━━\u001b[0m\u001b[37m\u001b[0m \u001b[1m0s\u001b[0m 31ms/step\n",
      "\u001b[1m1/1\u001b[0m \u001b[32m━━━━━━━━━━━━━━━━━━━━\u001b[0m\u001b[37m\u001b[0m \u001b[1m0s\u001b[0m 32ms/step\n",
      "\u001b[1m1/1\u001b[0m \u001b[32m━━━━━━━━━━━━━━━━━━━━\u001b[0m\u001b[37m\u001b[0m \u001b[1m0s\u001b[0m 31ms/step\n",
      "\u001b[1m1/1\u001b[0m \u001b[32m━━━━━━━━━━━━━━━━━━━━\u001b[0m\u001b[37m\u001b[0m \u001b[1m0s\u001b[0m 16ms/step\n",
      "\u001b[1m1/1\u001b[0m \u001b[32m━━━━━━━━━━━━━━━━━━━━\u001b[0m\u001b[37m\u001b[0m \u001b[1m0s\u001b[0m 16ms/step\n",
      "\u001b[1m1/1\u001b[0m \u001b[32m━━━━━━━━━━━━━━━━━━━━\u001b[0m\u001b[37m\u001b[0m \u001b[1m0s\u001b[0m 16ms/step\n",
      "\u001b[1m1/1\u001b[0m \u001b[32m━━━━━━━━━━━━━━━━━━━━\u001b[0m\u001b[37m\u001b[0m \u001b[1m0s\u001b[0m 24ms/step\n",
      "\u001b[1m1/1\u001b[0m \u001b[32m━━━━━━━━━━━━━━━━━━━━\u001b[0m\u001b[37m\u001b[0m \u001b[1m0s\u001b[0m 24ms/step\n",
      "\u001b[1m1/1\u001b[0m \u001b[32m━━━━━━━━━━━━━━━━━━━━\u001b[0m\u001b[37m\u001b[0m \u001b[1m0s\u001b[0m 24ms/step\n",
      "\u001b[1m1/1\u001b[0m \u001b[32m━━━━━━━━━━━━━━━━━━━━\u001b[0m\u001b[37m\u001b[0m \u001b[1m0s\u001b[0m 14ms/step\n",
      "\u001b[1m1/1\u001b[0m \u001b[32m━━━━━━━━━━━━━━━━━━━━\u001b[0m\u001b[37m\u001b[0m \u001b[1m0s\u001b[0m 24ms/step\n",
      "\u001b[1m1/1\u001b[0m \u001b[32m━━━━━━━━━━━━━━━━━━━━\u001b[0m\u001b[37m\u001b[0m \u001b[1m0s\u001b[0m 24ms/step\n",
      "\u001b[1m1/1\u001b[0m \u001b[32m━━━━━━━━━━━━━━━━━━━━\u001b[0m\u001b[37m\u001b[0m \u001b[1m0s\u001b[0m 16ms/step\n",
      "\u001b[1m1/1\u001b[0m \u001b[32m━━━━━━━━━━━━━━━━━━━━\u001b[0m\u001b[37m\u001b[0m \u001b[1m0s\u001b[0m 24ms/step\n",
      "\u001b[1m1/1\u001b[0m \u001b[32m━━━━━━━━━━━━━━━━━━━━\u001b[0m\u001b[37m\u001b[0m \u001b[1m0s\u001b[0m 39ms/step\n",
      "\u001b[1m1/1\u001b[0m \u001b[32m━━━━━━━━━━━━━━━━━━━━\u001b[0m\u001b[37m\u001b[0m \u001b[1m0s\u001b[0m 21ms/step\n",
      "\u001b[1m1/1\u001b[0m \u001b[32m━━━━━━━━━━━━━━━━━━━━\u001b[0m\u001b[37m\u001b[0m \u001b[1m0s\u001b[0m 43ms/step\n",
      "\u001b[1m1/1\u001b[0m \u001b[32m━━━━━━━━━━━━━━━━━━━━\u001b[0m\u001b[37m\u001b[0m \u001b[1m0s\u001b[0m 23ms/step\n",
      "\u001b[1m1/1\u001b[0m \u001b[32m━━━━━━━━━━━━━━━━━━━━\u001b[0m\u001b[37m\u001b[0m \u001b[1m0s\u001b[0m 35ms/step\n",
      "\u001b[1m1/1\u001b[0m \u001b[32m━━━━━━━━━━━━━━━━━━━━\u001b[0m\u001b[37m\u001b[0m \u001b[1m0s\u001b[0m 24ms/step\n",
      "\u001b[1m1/1\u001b[0m \u001b[32m━━━━━━━━━━━━━━━━━━━━\u001b[0m\u001b[37m\u001b[0m \u001b[1m0s\u001b[0m 23ms/step\n",
      "\u001b[1m1/1\u001b[0m \u001b[32m━━━━━━━━━━━━━━━━━━━━\u001b[0m\u001b[37m\u001b[0m \u001b[1m0s\u001b[0m 36ms/step\n",
      "\u001b[1m1/1\u001b[0m \u001b[32m━━━━━━━━━━━━━━━━━━━━\u001b[0m\u001b[37m\u001b[0m \u001b[1m0s\u001b[0m 44ms/step\n",
      "\u001b[1m1/1\u001b[0m \u001b[32m━━━━━━━━━━━━━━━━━━━━\u001b[0m\u001b[37m\u001b[0m \u001b[1m0s\u001b[0m 30ms/step\n",
      "\u001b[1m1/1\u001b[0m \u001b[32m━━━━━━━━━━━━━━━━━━━━\u001b[0m\u001b[37m\u001b[0m \u001b[1m0s\u001b[0m 33ms/step\n",
      "\u001b[1m1/1\u001b[0m \u001b[32m━━━━━━━━━━━━━━━━━━━━\u001b[0m\u001b[37m\u001b[0m \u001b[1m0s\u001b[0m 16ms/step\n",
      "\u001b[1m1/1\u001b[0m \u001b[32m━━━━━━━━━━━━━━━━━━━━\u001b[0m\u001b[37m\u001b[0m \u001b[1m0s\u001b[0m 32ms/step\n",
      "\u001b[1m1/1\u001b[0m \u001b[32m━━━━━━━━━━━━━━━━━━━━\u001b[0m\u001b[37m\u001b[0m \u001b[1m0s\u001b[0m 31ms/step\n",
      "\u001b[1m1/1\u001b[0m \u001b[32m━━━━━━━━━━━━━━━━━━━━\u001b[0m\u001b[37m\u001b[0m \u001b[1m0s\u001b[0m 20ms/step\n",
      "\u001b[1m1/1\u001b[0m \u001b[32m━━━━━━━━━━━━━━━━━━━━\u001b[0m\u001b[37m\u001b[0m \u001b[1m0s\u001b[0m 24ms/step\n",
      "\u001b[1m1/1\u001b[0m \u001b[32m━━━━━━━━━━━━━━━━━━━━\u001b[0m\u001b[37m\u001b[0m \u001b[1m0s\u001b[0m 24ms/step\n",
      "word: Higher\n",
      "impact: {'Books': 0.0005942583, 'Clothing & Accessories': -1.8684268e-08, 'Electronics': -0.00052106194, 'Household': -7.320193e-05}\n",
      "word:  \n",
      "impact: {'Books': 5.7935715e-05, 'Clothing & Accessories': 3.143437e-07, 'Electronics': -1.3418903e-05, 'Household': -4.4915498e-05}\n",
      "word: Mathematics\n",
      "impact: {'Books': -0.0005527735, 'Clothing & Accessories': 1.8020734e-07, 'Electronics': 0.00047816546, 'Household': 7.433045e-05}\n",
      "word:  \n",
      "impact: {'Books': -0.0003798604, 'Clothing & Accessories': 3.2723264e-09, 'Electronics': 0.0003515291, 'Household': 2.8300194e-05}\n",
      "word: Tongji\n",
      "impact: {'Books': -0.0007696152, 'Clothing & Accessories': -4.474941e-08, 'Electronics': 0.00069067546, 'Household': 7.890084e-05}\n",
      "word:  \n",
      "impact: {'Books': -0.00039291382, 'Clothing & Accessories': 1.9237203e-07, 'Electronics': 0.00030352757, 'Household': 8.9151355e-05}\n",
      "word: seventh\n",
      "impact: {'Books': 2.5093555e-05, 'Clothing & Accessories': -2.8687001e-08, 'Electronics': 1.1378434e-05, 'Household': -3.6561287e-05}\n",
      "word:  \n",
      "impact: {'Books': 0.00087732077, 'Clothing & Accessories': -3.6005105e-08, 'Electronics': -0.00077711965, 'Household': -0.00010021147}\n",
      "word: edition\n",
      "impact: {'Books': -0.00023061037, 'Clothing & Accessories': -4.0308688e-08, 'Electronics': 0.0001997489, 'Household': 3.0771735e-05}\n",
      "word:  \n",
      "impact: {'Books': 0.0006096363, 'Clothing & Accessories': 5.6677777e-08, 'Electronics': -0.0005659476, 'Household': -4.3812543e-05}\n",
      "word: eighth\n",
      "impact: {'Books': -0.0009804368, 'Clothing & Accessories': -1.2301918e-08, 'Electronics': 0.00094326434, 'Household': 3.7054975e-05}\n",
      "word:  \n",
      "impact: {'Books': -0.002577722, 'Clothing & Accessories': -2.6900025e-08, 'Electronics': 0.0025671336, 'Household': 1.0482356e-05}\n",
      "word: edition\n",
      "impact: {'Books': 3.0577183e-05, 'Clothing & Accessories': -2.0287036e-08, 'Electronics': -1.555332e-05, 'Household': -1.5088815e-05}\n",
      "word:  \n",
      "impact: {'Books': -2.5093555e-05, 'Clothing & Accessories': 4.2374597e-07, 'Electronics': -6.0339225e-05, 'Household': 8.488188e-05}\n",
      "word: textbook\n",
      "impact: {'Books': -0.00025987625, 'Clothing & Accessories': 1.769701e-07, 'Electronics': 0.00022001145, 'Household': 3.966604e-05}\n",
      "word:  \n",
      "impact: {'Books': 0.00017350912, 'Clothing & Accessories': 3.1709625e-08, 'Electronics': -0.00020889769, 'Household': 3.5272846e-05}\n",
      "word: up\n",
      "impact: {'Books': -0.0029444695, 'Clothing & Accessories': 1.0914171e-07, 'Electronics': 0.0028255347, 'Household': 0.00011873968}\n",
      "word:  \n",
      "impact: {'Books': -1.7225742e-05, 'Clothing & Accessories': -8.574098e-09, 'Electronics': 3.970368e-05, 'Household': -2.248861e-05}\n",
      "word: and\n",
      "impact: {'Books': 0.00030726194, 'Clothing & Accessories': -5.4290588e-08, 'Electronics': -0.00022697856, 'Household': -8.032275e-05}\n",
      "word:  \n",
      "impact: {'Books': -0.00045722723, 'Clothing & Accessories': 9.9544124e-08, 'Electronics': 0.00048235082, 'Household': -2.5276553e-05}\n",
      "word: down\n",
      "impact: {'Books': -0.00028210878, 'Clothing & Accessories': -1.9433354e-08, 'Electronics': 0.00031269377, 'Household': -3.059386e-05}\n",
      "word:  \n",
      "impact: {'Books': 7.671118e-05, 'Clothing & Accessories': -1.5933239e-08, 'Electronics': -4.0737796e-05, 'Household': -3.611797e-05}\n",
      "word: book\n",
      "impact: {'Books': -3.1769276e-05, 'Clothing & Accessories': -4.0739785e-08, 'Electronics': 4.2872736e-05, 'Household': -1.1181466e-05}\n",
      "word:  \n",
      "impact: {'Books': -0.00022351742, 'Clothing & Accessories': -3.0360564e-08, 'Electronics': 0.00025001494, 'Household': -2.6600377e-05}\n",
      "word: Tongji\n",
      "impact: {'Books': -0.0010858178, 'Clothing & Accessories': -3.365979e-08, 'Electronics': 0.0010357215, 'Household': 5.0097333e-05}\n",
      "word:  \n",
      "impact: {'Books': 0.0002824068, 'Clothing & Accessories': 7.409156e-08, 'Electronics': -0.00026523828, 'Household': -1.7394857e-05}\n",
      "word: higher\n",
      "impact: {'Books': 0.0006301999, 'Clothing & Accessories': 8.092265e-09, 'Electronics': -0.0005794756, 'Household': -5.0859348e-05}\n",
      "word:  \n",
      "impact: {'Books': 0.00025218725, 'Clothing & Accessories': 1.4168786e-07, 'Electronics': -0.0002206532, 'Household': -3.1770796e-05}\n",
      "word: mathematics\n",
      "impact: {'Books': -0.0012252927, 'Clothing & Accessories': 7.087833e-08, 'Electronics': 0.0011456395, 'Household': 7.95898e-05}\n",
      "word:  \n",
      "impact: {'Books': -0.000893116, 'Clothing & Accessories': 1.0389315e-06, 'Electronics': 0.0006365804, 'Household': 0.0002554676}\n",
      "word: seventh\n",
      "impact: {'Books': -0.00013619661, 'Clothing & Accessories': -2.5667067e-08, 'Electronics': 0.00015668664, 'Household': -2.0558531e-05}\n",
      "word:  \n",
      "impact: {'Books': 0.0008698106, 'Clothing & Accessories': -3.5878333e-08, 'Electronics': -0.00077445246, 'Household': -9.532217e-05}\n",
      "word: edition\n",
      "impact: {'Books': -6.2942505e-05, 'Clothing & Accessories': -1.8215545e-08, 'Electronics': 6.9994945e-05, 'Household': -7.1318937e-06}\n",
      "word:  \n",
      "impact: {'Books': -0.0010029674, 'Clothing & Accessories': 7.250467e-07, 'Electronics': 0.0009801051, 'Household': 2.2055661e-05}\n",
      "word: handwritten\n",
      "impact: {'Books': -0.002651453, 'Clothing & Accessories': 3.7619635e-08, 'Electronics': 0.0026746036, 'Household': -2.3336412e-05}\n",
      "word:  \n",
      "impact: {'Books': 0.00038218498, 'Clothing & Accessories': 2.256541e-07, 'Electronics': -0.0003949835, 'Household': 1.2479126e-05}\n",
      "word: notes\n",
      "impact: {'Books': 7.545948e-05, 'Clothing & Accessories': 7.750927e-09, 'Electronics': -8.584914e-05, 'Household': 1.0323427e-05}\n",
      "word:  \n",
      "impact: {'Books': 0.00060629845, 'Clothing & Accessories': 1.14986335e-07, 'Electronics': -0.0005542791, 'Household': -5.2146133e-05}\n",
      "word: tutorial\n",
      "impact: {'Books': -0.0006984472, 'Clothing & Accessories': 3.134499e-08, 'Electronics': 0.0006626637, 'Household': 3.5719488e-05}\n",
      "word:  \n",
      "impact: {'Books': 0.00032514334, 'Clothing & Accessories': 1.1134702e-08, 'Electronics': -0.0002928609, 'Household': -3.2455515e-05}\n",
      "word: question\n",
      "impact: {'Books': -0.00011718273, 'Clothing & Accessories': -8.2445695e-09, 'Electronics': 0.00012894743, 'Household': -1.186553e-05}\n",
      "word:  \n",
      "impact: {'Books': -0.0014630556, 'Clothing & Accessories': 8.206696e-08, 'Electronics': 0.0014036598, 'Household': 5.932505e-05}\n",
      "word: set\n",
      "impact: {'Books': 2.0325184e-05, 'Clothing & Accessories': 1.5218404e-09, 'Electronics': 2.2658496e-05, 'Household': -4.2987114e-05}\n",
      "word:  \n",
      "impact: {'Books': 0.00017207861, 'Clothing & Accessories': 7.862958e-09, 'Electronics': -0.00019011518, 'Household': 1.8020415e-05}\n",
      "word: freshman\n",
      "impact: {'Books': 0.00019824505, 'Clothing & Accessories': -6.1789976e-08, 'Electronics': -0.00015353988, 'Household': -4.4782202e-05}\n",
      "word:  \n",
      "impact: {'Books': 0.00055134296, 'Clothing & Accessories': 4.9030675e-08, 'Electronics': -0.0005456215, 'Household': -5.8407168e-06}\n",
      "word: college\n",
      "impact: {'Books': 0.00042289495, 'Clothing & Accessories': 2.3923981e-08, 'Electronics': -0.00039814634, 'Household': -2.4851302e-05}\n",
      "word:  \n",
      "impact: {'Books': 0.00023537874, 'Clothing & Accessories': -1.9445729e-08, 'Electronics': -0.0002063911, 'Household': -2.907325e-05}\n",
      "word: graduate\n",
      "impact: {'Books': -9.536743e-06, 'Clothing & Accessories': -3.0768987e-09, 'Electronics': 6.680202e-06, 'Household': 2.788518e-06}\n",
      "word:  \n",
      "impact: {'Books': 0.00048434734, 'Clothing & Accessories': -1.6819861e-08, 'Electronics': -0.00043739093, 'Household': -4.6988396e-05}\n",
      "word: exam\n",
      "impact: {'Books': 0.00016516447, 'Clothing & Accessories': -1.4473365e-08, 'Electronics': -0.000139496, 'Household': -2.5783214e-05}\n",
      "word:  \n",
      "impact: {'Books': -7.092953e-05, 'Clothing & Accessories': 9.57954e-08, 'Electronics': 2.4555193e-05, 'Household': 4.6144392e-05}\n",
      "word: synchronous\n",
      "impact: {'Books': -6.556511e-06, 'Clothing & Accessories': -3.556835e-08, 'Electronics': 2.6363705e-05, 'Household': -1.988533e-05}\n",
      "word:  \n",
      "impact: {'Books': 5.5789948e-05, 'Clothing & Accessories': 4.6693316e-08, 'Electronics': -7.271388e-05, 'Household': 1.6835787e-05}\n",
      "word: tutorial\n",
      "impact: {'Books': -0.0005184412, 'Clothing & Accessories': 1.3241745e-09, 'Electronics': 0.00049947156, 'Household': 1.8854618e-05}\n",
      "word:  \n",
      "impact: {'Books': -0.00014430285, 'Clothing & Accessories': 6.7800926e-08, 'Electronics': 0.00018776837, 'Household': -4.3532862e-05}\n",
      "word: exercises\n",
      "impact: {'Books': -0.00028425455, 'Clothing & Accessories': -3.0369502e-08, 'Electronics': 0.00031793455, 'Household': -3.3760436e-05}\n",
      "word:  \n",
      "impact: {'Books': -0.00077080727, 'Clothing & Accessories': -2.0707347e-10, 'Electronics': 0.00079786894, 'Household': -2.7112765e-05}\n",
      "word: supporting\n",
      "impact: {'Books': -0.0009151101, 'Clothing & Accessories': -4.468805e-08, 'Electronics': 0.0009318548, 'Household': -1.6741746e-05}\n",
      "word:  \n",
      "impact: {'Books': -0.0011008978, 'Clothing & Accessories': 7.084506e-08, 'Electronics': 0.0010594139, 'Household': 4.1410567e-05}\n",
      "word: Zhang\n",
      "impact: {'Books': -0.003781736, 'Clothing & Accessories': 4.1245454e-07, 'Electronics': 0.0030094082, 'Household': 0.00077184907}\n",
      "word:  \n",
      "impact: {'Books': -0.00041157007, 'Clothing & Accessories': 2.5981372e-08, 'Electronics': 0.00038685254, 'Household': 2.4629415e-05}\n",
      "word: Yu\n",
      "impact: {'Books': 0.00023776293, 'Clothing & Accessories': -5.7338667e-09, 'Electronics': -0.00021306885, 'Household': -2.4731817e-05}\n",
      "word:  \n",
      "impact: {'Books': -0.00094383955, 'Clothing & Accessories': 6.0534074e-07, 'Electronics': 0.0006891239, 'Household': 0.0002539634}\n",
      "word: mathematics\n",
      "impact: {'Books': 1.168251e-05, 'Clothing & Accessories': -1.1138091e-08, 'Electronics': 1.196377e-05, 'Household': -2.3737717e-05}\n",
      "word:  \n",
      "impact: {'Books': -0.0010757446, 'Clothing & Accessories': 2.8531545e-07, 'Electronics': 0.0006611985, 'Household': 0.000414106}\n",
      "word: exams\n",
      "impact: {'Books': 0.00042754412, 'Clothing & Accessories': -3.1797473e-08, 'Electronics': -0.00039414736, 'Household': -3.345369e-05}\n"
     ]
    }
   ],
   "source": [
    "# 测试单词影响    Тестирование влияния слов\n",
    "for text in test_text:\n",
    "    impacts = get_words_impact(text)\n",
    "    for word, impact in impacts:\n",
    "        print(f\"word: {word}\\nimpact: {impact}\")"
   ]
  },
  {
   "cell_type": "code",
   "execution_count": null,
   "id": "5d46020e-b3e4-4e0b-9530-a9aee33e30cc",
   "metadata": {},
   "outputs": [],
   "source": []
  }
 ],
 "metadata": {
  "kernelspec": {
   "display_name": "Python 3 (ipykernel)",
   "language": "python",
   "name": "python3"
  },
  "language_info": {
   "codemirror_mode": {
    "name": "ipython",
    "version": 3
   },
   "file_extension": ".py",
   "mimetype": "text/x-python",
   "name": "python",
   "nbconvert_exporter": "python",
   "pygments_lexer": "ipython3",
   "version": "3.11.5"
  }
 },
 "nbformat": 4,
 "nbformat_minor": 5
}
